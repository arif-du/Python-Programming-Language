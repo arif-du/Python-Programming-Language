{
  "nbformat": 4,
  "nbformat_minor": 0,
  "metadata": {
    "colab": {
      "provenance": []
    },
    "kernelspec": {
      "name": "python3",
      "display_name": "Python 3"
    },
    "language_info": {
      "name": "python"
    }
  },
  "cells": [
    {
      "cell_type": "markdown",
      "source": [
        "# **List**"
      ],
      "metadata": {
        "id": "TPVyAiEv4xoo"
      }
    },
    {
      "cell_type": "code",
      "execution_count": null,
      "metadata": {
        "colab": {
          "base_uri": "https://localhost:8080/"
        },
        "id": "oResIJBS0cpM",
        "outputId": "fd4650e5-a90c-43d3-c6d6-4c8928801cd4"
      },
      "outputs": [
        {
          "output_type": "execute_result",
          "data": {
            "text/plain": [
              "[1, 2, 3, 4, 5, 6, 7, 8, 9, 10]"
            ]
          },
          "metadata": {},
          "execution_count": 1
        }
      ],
      "source": [
        "numbers=[1,2,3,4,5,6,7,8,9,10]\n",
        "numbers"
      ]
    },
    {
      "cell_type": "markdown",
      "source": [
        "If we want to know the value of a particular position"
      ],
      "metadata": {
        "id": "_UKa2yHa4v44"
      }
    },
    {
      "cell_type": "code",
      "source": [
        "print(numbers[9])"
      ],
      "metadata": {
        "colab": {
          "base_uri": "https://localhost:8080/"
        },
        "id": "LMt0nDzZ6VWi",
        "outputId": "d99c5d03-feb4-42f6-da88-cdcbd4f0145a"
      },
      "execution_count": null,
      "outputs": [
        {
          "output_type": "stream",
          "name": "stdout",
          "text": [
            "10\n"
          ]
        }
      ]
    },
    {
      "cell_type": "code",
      "source": [
        "print(numbers[1])"
      ],
      "metadata": {
        "colab": {
          "base_uri": "https://localhost:8080/"
        },
        "id": "97hALUft6bvs",
        "outputId": "2f905068-7743-466e-fe4e-9a11a6e73ee4"
      },
      "execution_count": null,
      "outputs": [
        {
          "output_type": "stream",
          "name": "stdout",
          "text": [
            "2\n"
          ]
        }
      ]
    },
    {
      "cell_type": "code",
      "source": [
        "print(numbers[10])"
      ],
      "metadata": {
        "colab": {
          "base_uri": "https://localhost:8080/",
          "height": 146
        },
        "id": "rHPYAByQ6qsI",
        "outputId": "0168cf48-2c2e-47d7-a97e-35dff6884497"
      },
      "execution_count": null,
      "outputs": [
        {
          "output_type": "error",
          "ename": "IndexError",
          "evalue": "list index out of range",
          "traceback": [
            "\u001b[0;31m---------------------------------------------------------------------------\u001b[0m",
            "\u001b[0;31mIndexError\u001b[0m                                Traceback (most recent call last)",
            "\u001b[0;32m<ipython-input-4-ace1d46a592c>\u001b[0m in \u001b[0;36m<cell line: 0>\u001b[0;34m()\u001b[0m\n\u001b[0;32m----> 1\u001b[0;31m \u001b[0mprint\u001b[0m\u001b[0;34m(\u001b[0m\u001b[0mnumbers\u001b[0m\u001b[0;34m[\u001b[0m\u001b[0;36m10\u001b[0m\u001b[0;34m]\u001b[0m\u001b[0;34m)\u001b[0m\u001b[0;34m\u001b[0m\u001b[0;34m\u001b[0m\u001b[0m\n\u001b[0m",
            "\u001b[0;31mIndexError\u001b[0m: list index out of range"
          ]
        }
      ]
    },
    {
      "cell_type": "markdown",
      "source": [
        "If we want to know the number of items or elements in a list"
      ],
      "metadata": {
        "id": "V512gWOC7cW6"
      }
    },
    {
      "cell_type": "code",
      "source": [
        "len(numbers)"
      ],
      "metadata": {
        "colab": {
          "base_uri": "https://localhost:8080/"
        },
        "id": "nxC0sf3m69VL",
        "outputId": "1a349719-195a-48ec-cc9b-2dcc3a11c473"
      },
      "execution_count": null,
      "outputs": [
        {
          "output_type": "execute_result",
          "data": {
            "text/plain": [
              "10"
            ]
          },
          "metadata": {},
          "execution_count": 5
        }
      ]
    },
    {
      "cell_type": "code",
      "source": [
        "ocn=[\"physical\", \"chemical\", \"biological\", \"geological\", \"environmental\"]\n",
        "ocn"
      ],
      "metadata": {
        "colab": {
          "base_uri": "https://localhost:8080/"
        },
        "id": "GQPjlsje7nxj",
        "outputId": "baa8815a-0dfd-42fc-db96-5a1f7dc30963"
      },
      "execution_count": null,
      "outputs": [
        {
          "output_type": "execute_result",
          "data": {
            "text/plain": [
              "['physical', 'chemical', 'biological', 'geological', 'environmental']"
            ]
          },
          "metadata": {},
          "execution_count": 7
        }
      ]
    },
    {
      "cell_type": "code",
      "source": [
        "len(ocn)"
      ],
      "metadata": {
        "colab": {
          "base_uri": "https://localhost:8080/"
        },
        "id": "FdU2hPnm8LO3",
        "outputId": "e910d08f-2824-4044-b137-489d4db65321"
      },
      "execution_count": null,
      "outputs": [
        {
          "output_type": "execute_result",
          "data": {
            "text/plain": [
              "5"
            ]
          },
          "metadata": {},
          "execution_count": 8
        }
      ]
    },
    {
      "cell_type": "code",
      "source": [
        "print(ocn[3])"
      ],
      "metadata": {
        "colab": {
          "base_uri": "https://localhost:8080/"
        },
        "id": "qoPl_Yes8gmS",
        "outputId": "4d789c28-fa3d-42cf-9360-192290a1d188"
      },
      "execution_count": null,
      "outputs": [
        {
          "output_type": "stream",
          "name": "stdout",
          "text": [
            "geological\n"
          ]
        }
      ]
    },
    {
      "cell_type": "code",
      "source": [
        "print(\"Number of major fields in Oceanography:\",len(ocn))"
      ],
      "metadata": {
        "colab": {
          "base_uri": "https://localhost:8080/"
        },
        "id": "P7RBIewV8mpS",
        "outputId": "b0055098-08b7-4a66-a130-0c926bd940e7"
      },
      "execution_count": null,
      "outputs": [
        {
          "output_type": "stream",
          "name": "stdout",
          "text": [
            "Number of major fields in Oceanography: 5\n"
          ]
        }
      ]
    },
    {
      "cell_type": "markdown",
      "source": [
        "check the major fields of oceanography"
      ],
      "metadata": {
        "id": "sRVxOsnx9s5x"
      }
    },
    {
      "cell_type": "code",
      "source": [
        "\"meteorology\" in ocn"
      ],
      "metadata": {
        "colab": {
          "base_uri": "https://localhost:8080/"
        },
        "id": "Nzz9D1MB9OXe",
        "outputId": "8d197619-a446-49bd-ff06-4b718bfb0c84"
      },
      "execution_count": null,
      "outputs": [
        {
          "output_type": "execute_result",
          "data": {
            "text/plain": [
              "False"
            ]
          },
          "metadata": {},
          "execution_count": 12
        }
      ]
    },
    {
      "cell_type": "code",
      "source": [
        "\"physical\" in ocn"
      ],
      "metadata": {
        "colab": {
          "base_uri": "https://localhost:8080/"
        },
        "id": "YKBRomoU960v",
        "outputId": "fc6e8a4d-7751-44d5-9425-d523ace74e68"
      },
      "execution_count": null,
      "outputs": [
        {
          "output_type": "execute_result",
          "data": {
            "text/plain": [
              "True"
            ]
          },
          "metadata": {},
          "execution_count": 13
        }
      ]
    },
    {
      "cell_type": "markdown",
      "source": [
        "# **IF statement**"
      ],
      "metadata": {
        "id": "RYELgyma-Y2R"
      }
    },
    {
      "cell_type": "code",
      "source": [
        "ocn=[\"physical\", \"chemical\", \"biological\", \"geological\", \"environmental\"]\n",
        "field=input(\"Enter the name of field: \")\n",
        "if field in ocn:\n",
        "  print(field, \"is a major field of Oceanography\")\n",
        "print(\"Program Terminated\")"
      ],
      "metadata": {
        "colab": {
          "base_uri": "https://localhost:8080/"
        },
        "id": "3W0JQR1C-S5M",
        "outputId": "3480a3ca-0779-45a0-aaab-703f2a0bd1fa"
      },
      "execution_count": null,
      "outputs": [
        {
          "output_type": "stream",
          "name": "stdout",
          "text": [
            "Enter the name of field: meteorology\n",
            "Program Terminated\n"
          ]
        }
      ]
    },
    {
      "cell_type": "code",
      "source": [
        "ocn=[\"physical\", \"chemical\", \"biological\", \"geological\", \"environmental\"]\n",
        "field=input(\"Enter the name of field: \")\n",
        "if field in ocn:\n",
        "  print(field, \"is a major field of Oceanography\")\n",
        "else:\n",
        "  print(field,\"is not a major field of Oceanography\")"
      ],
      "metadata": {
        "colab": {
          "base_uri": "https://localhost:8080/"
        },
        "id": "egVGLRMaBK8G",
        "outputId": "d470be0f-5dc6-49e2-ba8f-d54d2ace48c0"
      },
      "execution_count": null,
      "outputs": [
        {
          "output_type": "stream",
          "name": "stdout",
          "text": [
            "Enter the name of field: meteorology\n",
            "meteorology is not a major field of Oceanography\n"
          ]
        }
      ]
    },
    {
      "cell_type": "markdown",
      "source": [
        "**Result Score**"
      ],
      "metadata": {
        "id": "M2_OQWpHG8UQ"
      }
    },
    {
      "cell_type": "code",
      "source": [
        "#take the input from the students\n",
        "score=float(input(\"Enter your total marks in Programming Course: \"))\n",
        "score=int(score)\n",
        "#determine the grade\n",
        "if score>=80:\n",
        "  print(\"Your Grade is A+\")\n",
        "if score>=75:\n",
        "  print(\"Your Grade is A\")\n",
        "if score>=70:\n",
        "  print(\"Your Grade is A-\")\n",
        "if score>=65:\n",
        "  print(\"Your Grade is B+\")\n",
        "if score>=60:\n",
        "  print(\"Your Grade is B\")\n",
        "if score>=55:\n",
        "  print(\"Your Grade is B-\")\n",
        "if score>=50:\n",
        "  print(\"Your Grade is C+\")\n",
        "if score>=45:\n",
        "  print(\"Your Grade is C\")\n",
        "if score>=40:\n",
        "  print(\"Your Grade is D\")\n",
        "if score<40:\n",
        "  print(\"Your Grade is F\")"
      ],
      "metadata": {
        "colab": {
          "base_uri": "https://localhost:8080/"
        },
        "id": "kV0pPsf9Evl-",
        "outputId": "8edfac64-64a7-4ab5-ac6d-30ff73085e38"
      },
      "execution_count": null,
      "outputs": [
        {
          "output_type": "stream",
          "name": "stdout",
          "text": [
            "Enter your total marks in Programming Course: 73.5\n",
            "Your Grade is A-\n",
            "Your Grade is B+\n",
            "Your Grade is B\n",
            "Your Grade is B-\n",
            "Your Grade is C+\n",
            "Your Grade is C\n",
            "Your Grade is D\n"
          ]
        }
      ]
    },
    {
      "cell_type": "code",
      "source": [
        "#take the input from the students\n",
        "score=float(input(\"Enter your total marks in Programming Course: \"))\n",
        "score=int(score)\n",
        "#determine the grade\n",
        "if score>=80:\n",
        "  print(\"Your Grade is A+\")\n",
        "if score>=75 and score<=79:\n",
        "  print(\"Your Grade is A\")\n",
        "if score>=70 and score<=74:\n",
        "  print(\"Your Grade is A-\")\n",
        "if score>=65 and score<=69:\n",
        "  print(\"Your Grade is B+\")\n",
        "if score>=60 and score<=64:\n",
        "  print(\"Your Grade is B\")\n",
        "if score>=55 and score<=59:\n",
        "  print(\"Your Grade is B-\")\n",
        "if score>=50 and score<=54:\n",
        "  print(\"Your Grade is C+\")\n",
        "if score>=45 and score<=49:\n",
        "  print(\"Your Grade is C\")\n",
        "if score>=40 and score<=44:\n",
        "  print(\"Your Grade is D\")\n",
        "if score<40:\n",
        "  print(\"Your Grade is F\")"
      ],
      "metadata": {
        "colab": {
          "base_uri": "https://localhost:8080/"
        },
        "id": "WywNyH1jJUC_",
        "outputId": "6e907bfc-4d4d-41fa-fad3-e022a8745020"
      },
      "execution_count": null,
      "outputs": [
        {
          "output_type": "stream",
          "name": "stdout",
          "text": [
            "Enter your total marks in Programming Course: 73.4\n",
            "Your Grade is A-\n"
          ]
        }
      ]
    },
    {
      "cell_type": "code",
      "source": [
        "#take the input from the students\n",
        "score=float(input(\"Enter your total marks in Programming Course: \"))\n",
        "score=int(score)\n",
        "#determine the grade\n",
        "if score>=80:\n",
        "  print(\"Your Grade is A+\")\n",
        "elif score>=75:\n",
        "  print(\"Your Grade is A\")\n",
        "elif score>=70:\n",
        "  print(\"Your Grade is A-\")\n",
        "elif score>=65:\n",
        "  print(\"Your Grade is B+\")\n",
        "elif score>=60:\n",
        "  print(\"Your Grade is B\")\n",
        "elif score>=55:\n",
        "  print(\"Your Grade is B-\")\n",
        "elif score>=50:\n",
        "  print(\"Your Grade is C+\")\n",
        "elif score>=45:\n",
        "  print(\"Your Grade is C\")\n",
        "elif score>=40:\n",
        "  print(\"Your Grade is D\")\n",
        "elif score<40:\n",
        "  print(\"Your Grade is F\")"
      ],
      "metadata": {
        "colab": {
          "base_uri": "https://localhost:8080/"
        },
        "id": "Whn9eQeqNcYX",
        "outputId": "3db095ec-5540-482e-b0ec-c5cb6a12345a"
      },
      "execution_count": null,
      "outputs": [
        {
          "output_type": "stream",
          "name": "stdout",
          "text": [
            "Enter your total marks in Programming Course: 73.5\n",
            "Your Grade is A-\n"
          ]
        }
      ]
    },
    {
      "cell_type": "code",
      "source": [
        "#take the input from the students\n",
        "score=float(input(\"Enter your total marks in Programming Course: \"))\n",
        "score=int(score)\n",
        "#determine the grade\n",
        "if score>=80:\n",
        "  print(\"Your Grade is A+\")\n",
        "elif score>=75:\n",
        "  print(\"Your Grade is A\")\n",
        "elif score>=70:\n",
        "  print(\"Your Grade is A-\")\n",
        "elif score>=65:\n",
        "  print(\"Your Grade is B+\")\n",
        "elif score>=60:\n",
        "  print(\"Your Grade is B\")\n",
        "elif score>=55:\n",
        "  print(\"Your Grade is B-\")\n",
        "elif score>=50:\n",
        "  print(\"Your Grade is C+\")\n",
        "elif score>=45:\n",
        "  print(\"Your Grade is C\")\n",
        "elif score>=40:\n",
        "  print(\"Your Grade is D\")\n",
        "else:\n",
        "  print(\"Your Grade is F\")"
      ],
      "metadata": {
        "colab": {
          "base_uri": "https://localhost:8080/"
        },
        "id": "GhinIkGuN3mM",
        "outputId": "f9fcc280-a496-49c2-ec75-2efc85847f69"
      },
      "execution_count": null,
      "outputs": [
        {
          "output_type": "stream",
          "name": "stdout",
          "text": [
            "Enter your total marks in Programming Course: 43.5\n",
            "Your Grade is D\n"
          ]
        }
      ]
    }
  ]
}