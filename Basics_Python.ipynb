{
 "cells": [
  {
   "cell_type": "code",
   "execution_count": 1,
   "id": "0a161db0-8635-423a-a3d6-5c3ceaf2a8e7",
   "metadata": {},
   "outputs": [
    {
     "name": "stdout",
     "output_type": "stream",
     "text": [
      "Hello World\n"
     ]
    }
   ],
   "source": [
    "print (\"Hello World\")"
   ]
  },
  {
   "cell_type": "code",
   "execution_count": 3,
   "id": "ed0e1fab-91a0-414f-ab51-e734e0db86e3",
   "metadata": {},
   "outputs": [
    {
     "name": "stdout",
     "output_type": "stream",
     "text": [
      "15\n"
     ]
    }
   ],
   "source": [
    "number1 = 10\n",
    "number2 = 5\n",
    "result = number1 + number2\n",
    "print(result)"
   ]
  },
  {
   "cell_type": "code",
   "execution_count": 5,
   "id": "42d0a730-007d-46ac-ad31-0cf3d09b8e08",
   "metadata": {
    "scrolled": true
   },
   "outputs": [
    {
     "name": "stdout",
     "output_type": "stream",
     "text": [
      "10\n"
     ]
    }
   ],
   "source": [
    "number1 = 10\n",
    "print(number1)"
   ]
  },
  {
   "cell_type": "code",
   "execution_count": 7,
   "id": "52dca970-7b70-4dd0-a349-5d7ffddd80a1",
   "metadata": {},
   "outputs": [
    {
     "name": "stdout",
     "output_type": "stream",
     "text": [
      "18\n"
     ]
    }
   ],
   "source": [
    "number1 = 15\n",
    "number1 = 18\n",
    "print(number1)"
   ]
  },
  {
   "cell_type": "code",
   "execution_count": 9,
   "id": "9d098553-8ecb-456a-b74e-782fe9fb8f81",
   "metadata": {},
   "outputs": [
    {
     "name": "stdout",
     "output_type": "stream",
     "text": [
      "hello\n"
     ]
    }
   ],
   "source": [
    "number1 = \"hello\"\n",
    "print(number1)"
   ]
  },
  {
   "cell_type": "code",
   "execution_count": 11,
   "id": "f82a30c9-dd0b-4e5f-849a-259b821e2b1a",
   "metadata": {},
   "outputs": [
    {
     "ename": "TypeError",
     "evalue": "can only concatenate str (not \"int\") to str",
     "output_type": "error",
     "traceback": [
      "\u001b[1;31m---------------------------------------------------------------------------\u001b[0m",
      "\u001b[1;31mTypeError\u001b[0m                                 Traceback (most recent call last)",
      "Cell \u001b[1;32mIn[11], line 3\u001b[0m\n\u001b[0;32m      1\u001b[0m number1 \u001b[38;5;241m=\u001b[39m \u001b[38;5;124m\"\u001b[39m\u001b[38;5;124mhello\u001b[39m\u001b[38;5;124m\"\u001b[39m\n\u001b[0;32m      2\u001b[0m number2 \u001b[38;5;241m=\u001b[39m \u001b[38;5;241m2\u001b[39m\n\u001b[1;32m----> 3\u001b[0m result \u001b[38;5;241m=\u001b[39m number1 \u001b[38;5;241m+\u001b[39m number2\n",
      "\u001b[1;31mTypeError\u001b[0m: can only concatenate str (not \"int\") to str"
     ]
    }
   ],
   "source": [
    "number1 = \"hello\"\n",
    "number2 = 2\n",
    "result = number1 + number2"
   ]
  },
  {
   "cell_type": "code",
   "execution_count": 15,
   "id": "1ff621a7-81c6-4fd2-a2f9-4c0d27c92c85",
   "metadata": {},
   "outputs": [
    {
     "name": "stdout",
     "output_type": "stream",
     "text": [
      "hello2\n"
     ]
    }
   ],
   "source": [
    "number1 = \"hello\"\n",
    "number2 = \"2\" #convert into string\n",
    "result = number1 + number2\n",
    "print(result)"
   ]
  },
  {
   "cell_type": "code",
   "execution_count": 21,
   "id": "9acca762-148f-4aec-857e-ca5cf99088a4",
   "metadata": {},
   "outputs": [
    {
     "data": {
      "text/plain": [
       "int"
      ]
     },
     "execution_count": 21,
     "metadata": {},
     "output_type": "execute_result"
    }
   ],
   "source": [
    "#Data Type\n",
    "x = 10\n",
    "type(x)"
   ]
  },
  {
   "cell_type": "code",
   "execution_count": 23,
   "id": "c566fc32-9647-4650-98a8-f4364b467ec4",
   "metadata": {},
   "outputs": [
    {
     "data": {
      "text/plain": [
       "str"
      ]
     },
     "execution_count": 23,
     "metadata": {},
     "output_type": "execute_result"
    }
   ],
   "source": [
    "y = \"10\"\n",
    "type(y)"
   ]
  },
  {
   "cell_type": "code",
   "execution_count": 25,
   "id": "f1b4debd-7a37-4503-9693-69a7215cc835",
   "metadata": {},
   "outputs": [
    {
     "data": {
      "text/plain": [
       "float"
      ]
     },
     "execution_count": 25,
     "metadata": {},
     "output_type": "execute_result"
    }
   ],
   "source": [
    "z = 10.0\n",
    "type(z)"
   ]
  },
  {
   "cell_type": "code",
   "execution_count": 27,
   "id": "7421baf2-ada6-4ec3-accd-33118c65c4d2",
   "metadata": {},
   "outputs": [],
   "source": [
    "#string representation\n",
    "x = \"100\"\n",
    "y = \"Robotics Mechatronics\"\n",
    "z = \" \"\n",
    "t = ' '"
   ]
  },
  {
   "cell_type": "code",
   "execution_count": 29,
   "id": "dff87e2e-f5dc-4b40-ae45-f0b73cdcb4a8",
   "metadata": {},
   "outputs": [
    {
     "data": {
      "text/plain": [
       "'100'"
      ]
     },
     "execution_count": 29,
     "metadata": {},
     "output_type": "execute_result"
    }
   ],
   "source": [
    "x"
   ]
  },
  {
   "cell_type": "code",
   "execution_count": 31,
   "id": "672460c0-5234-42a9-b03d-463e0b260e14",
   "metadata": {},
   "outputs": [
    {
     "data": {
      "text/plain": [
       "'Robotics Mechatronics'"
      ]
     },
     "execution_count": 31,
     "metadata": {},
     "output_type": "execute_result"
    }
   ],
   "source": [
    "y"
   ]
  },
  {
   "cell_type": "code",
   "execution_count": 33,
   "id": "cd7568ac-d505-43b4-945e-68acdf11f22d",
   "metadata": {},
   "outputs": [
    {
     "data": {
      "text/plain": [
       "' '"
      ]
     },
     "execution_count": 33,
     "metadata": {},
     "output_type": "execute_result"
    }
   ],
   "source": [
    "z"
   ]
  },
  {
   "cell_type": "code",
   "execution_count": 35,
   "id": "a421dca0-e6fc-4e3b-b3b0-29c012ba995f",
   "metadata": {},
   "outputs": [
    {
     "data": {
      "text/plain": [
       "' '"
      ]
     },
     "execution_count": 35,
     "metadata": {},
     "output_type": "execute_result"
    }
   ],
   "source": [
    "t"
   ]
  },
  {
   "cell_type": "code",
   "execution_count": 37,
   "id": "47c100e7-e11b-4560-b044-69d39b643573",
   "metadata": {},
   "outputs": [
    {
     "name": "stdout",
     "output_type": "stream",
     "text": [
      "3.5\n"
     ]
    }
   ],
   "source": [
    "a = 1\n",
    "b = 2.5\n",
    "c = a + b\n",
    "print (c)"
   ]
  },
  {
   "cell_type": "code",
   "execution_count": 39,
   "id": "f6ac9b4e-1828-4c1d-aaa9-dda0b6504150",
   "metadata": {},
   "outputs": [
    {
     "ename": "TypeError",
     "evalue": "unsupported operand type(s) for +: 'int' and 'str'",
     "output_type": "error",
     "traceback": [
      "\u001b[1;31m---------------------------------------------------------------------------\u001b[0m",
      "\u001b[1;31mTypeError\u001b[0m                                 Traceback (most recent call last)",
      "Cell \u001b[1;32mIn[39], line 3\u001b[0m\n\u001b[0;32m      1\u001b[0m a \u001b[38;5;241m=\u001b[39m \u001b[38;5;241m1\u001b[39m\n\u001b[0;32m      2\u001b[0m b \u001b[38;5;241m=\u001b[39m \u001b[38;5;124m\"\u001b[39m\u001b[38;5;124m2\u001b[39m\u001b[38;5;124m\"\u001b[39m\n\u001b[1;32m----> 3\u001b[0m c \u001b[38;5;241m=\u001b[39m a \u001b[38;5;241m+\u001b[39m b\n\u001b[0;32m      4\u001b[0m \u001b[38;5;28mprint\u001b[39m(c)\n",
      "\u001b[1;31mTypeError\u001b[0m: unsupported operand type(s) for +: 'int' and 'str'"
     ]
    }
   ],
   "source": [
    "a = 1\n",
    "b = \"2\"\n",
    "c = a + b\n",
    "print(c)"
   ]
  },
  {
   "cell_type": "code",
   "execution_count": 43,
   "id": "54027405-03c8-4d9a-9e10-38f7a4c5c98e",
   "metadata": {},
   "outputs": [
    {
     "data": {
      "text/plain": [
       "7"
      ]
     },
     "execution_count": 43,
     "metadata": {},
     "output_type": "execute_result"
    }
   ],
   "source": [
    "#Mathematical Operation\n",
    "5+2 #addition"
   ]
  },
  {
   "cell_type": "code",
   "execution_count": 45,
   "id": "4754bb0e-6799-422f-bed9-5d3bd0f5f689",
   "metadata": {},
   "outputs": [
    {
     "data": {
      "text/plain": [
       "3"
      ]
     },
     "execution_count": 45,
     "metadata": {},
     "output_type": "execute_result"
    }
   ],
   "source": [
    "5-2 #subtraction"
   ]
  },
  {
   "cell_type": "code",
   "execution_count": 47,
   "id": "f36858ba-b318-40b7-9c0c-b80a9abff0e9",
   "metadata": {},
   "outputs": [
    {
     "data": {
      "text/plain": [
       "10"
      ]
     },
     "execution_count": 47,
     "metadata": {},
     "output_type": "execute_result"
    }
   ],
   "source": [
    "5*2 #multiplication"
   ]
  },
  {
   "cell_type": "code",
   "execution_count": 49,
   "id": "6cb56676-6e28-45f7-8424-cdc67b8ca382",
   "metadata": {},
   "outputs": [
    {
     "data": {
      "text/plain": [
       "2.5"
      ]
     },
     "execution_count": 49,
     "metadata": {},
     "output_type": "execute_result"
    }
   ],
   "source": [
    "5/2 #division"
   ]
  },
  {
   "cell_type": "code",
   "execution_count": 51,
   "id": "8cfc7608-0487-4785-818b-883cb949c0a1",
   "metadata": {},
   "outputs": [
    {
     "data": {
      "text/plain": [
       "2"
      ]
     },
     "execution_count": 51,
     "metadata": {},
     "output_type": "execute_result"
    }
   ],
   "source": [
    "5//2 #integer part of result"
   ]
  },
  {
   "cell_type": "code",
   "execution_count": 53,
   "id": "72f40f25-668e-46aa-b31f-a7140d84a98e",
   "metadata": {},
   "outputs": [
    {
     "data": {
      "text/plain": [
       "1"
      ]
     },
     "execution_count": 53,
     "metadata": {},
     "output_type": "execute_result"
    }
   ],
   "source": [
    "5%2 #modulus"
   ]
  },
  {
   "cell_type": "code",
   "execution_count": 55,
   "id": "1eaaed4c-b778-478a-8ef4-dacbb935c0a3",
   "metadata": {},
   "outputs": [
    {
     "data": {
      "text/plain": [
       "25"
      ]
     },
     "execution_count": 55,
     "metadata": {},
     "output_type": "execute_result"
    }
   ],
   "source": [
    "5**2 #square"
   ]
  },
  {
   "cell_type": "code",
   "execution_count": 57,
   "id": "7a12ca87-745a-40d2-ac15-121757095dcb",
   "metadata": {},
   "outputs": [
    {
     "name": "stdout",
     "output_type": "stream",
     "text": [
      "1 1.2 hello\n"
     ]
    }
   ],
   "source": [
    "#multiple arguments in print() function\n",
    "a = 1\n",
    "b = 1.2\n",
    "c = \"hello\"\n",
    "print(a, b, c)"
   ]
  },
  {
   "cell_type": "code",
   "execution_count": 59,
   "id": "124f5e70-6e69-419d-96f6-21e687fe48b5",
   "metadata": {},
   "outputs": [
    {
     "name": "stdout",
     "output_type": "stream",
     "text": [
      "1 1.2 hello world\n"
     ]
    }
   ],
   "source": [
    "print(a, b, c, \"world\") # add another string without assigning "
   ]
  },
  {
   "cell_type": "code",
   "execution_count": 61,
   "id": "8744677e-17a8-4db3-aa9c-cbf372e08562",
   "metadata": {},
   "outputs": [
    {
     "name": "stdin",
     "output_type": "stream",
     "text": [
      "What is your name?  arif\n"
     ]
    },
    {
     "data": {
      "text/plain": [
       "'arif'"
      ]
     },
     "execution_count": 61,
     "metadata": {},
     "output_type": "execute_result"
    }
   ],
   "source": [
    "name = input (\"What is your name? \")\n",
    "name"
   ]
  },
  {
   "cell_type": "code",
   "execution_count": 63,
   "id": "fcac32fa-c64f-414d-8eb3-f00a218260b1",
   "metadata": {},
   "outputs": [
    {
     "name": "stdin",
     "output_type": "stream",
     "text": [
      "What is your name?  Md. Ariful Islam\n"
     ]
    },
    {
     "name": "stdout",
     "output_type": "stream",
     "text": [
      "Welcome to Python,  Md. Ariful Islam !\n"
     ]
    }
   ],
   "source": [
    "name = input (\"What is your name? \")\n",
    "print(\"Welcome to Python, \", name, \"!\")"
   ]
  },
  {
   "cell_type": "code",
   "execution_count": 65,
   "id": "90133178-a4bd-4e40-b18b-e38593529162",
   "metadata": {},
   "outputs": [
    {
     "name": "stdin",
     "output_type": "stream",
     "text": [
      "Please type an integer and press enter:  12\n",
      "Please type another integer and press enter:  25\n"
     ]
    },
    {
     "name": "stdout",
     "output_type": "stream",
     "text": [
      "number1 + number2 =  1225\n"
     ]
    }
   ],
   "source": [
    "number1 = input (\"Please type an integer and press enter: \")\n",
    "number2 = input (\"Please type another integer and press enter: \")\n",
    "print(\"number1 + number2 = \", number1+number2)"
   ]
  },
  {
   "cell_type": "code",
   "execution_count": 67,
   "id": "dedce861-b224-495a-b5fa-15ff81f46c36",
   "metadata": {},
   "outputs": [
    {
     "name": "stdin",
     "output_type": "stream",
     "text": [
      "Please type an integer and press enter:  12\n",
      "Please type another integer and press enter:  25\n"
     ]
    },
    {
     "name": "stdout",
     "output_type": "stream",
     "text": [
      "number1 + number2 =  37\n"
     ]
    }
   ],
   "source": [
    "number1 = input (\"Please type an integer and press enter: \")\n",
    "number2 = input (\"Please type another integer and press enter: \")\n",
    "number1 = int(number1)\n",
    "number2 = int(number2)\n",
    "print(\"number1 + number2 = \", number1+number2)"
   ]
  },
  {
   "cell_type": "code",
   "execution_count": 69,
   "id": "3e446876-305d-4eef-ad62-7ddff8c0bf26",
   "metadata": {},
   "outputs": [
    {
     "data": {
      "text/plain": [
       "False"
      ]
     },
     "execution_count": 69,
     "metadata": {},
     "output_type": "execute_result"
    }
   ],
   "source": [
    "#Comparison Operator\n",
    "2==3 #equal?"
   ]
  },
  {
   "cell_type": "code",
   "execution_count": 71,
   "id": "19aa69a3-30c0-45b0-899c-85d2fa99ac6c",
   "metadata": {},
   "outputs": [
    {
     "data": {
      "text/plain": [
       "True"
      ]
     },
     "execution_count": 71,
     "metadata": {},
     "output_type": "execute_result"
    }
   ],
   "source": [
    "3==3 #equal?"
   ]
  },
  {
   "cell_type": "code",
   "execution_count": 73,
   "id": "a7683fb3-d178-4d8b-9f97-e64405f9e828",
   "metadata": {},
   "outputs": [
    {
     "data": {
      "text/plain": [
       "False"
      ]
     },
     "execution_count": 73,
     "metadata": {},
     "output_type": "execute_result"
    }
   ],
   "source": [
    "2>3"
   ]
  },
  {
   "cell_type": "code",
   "execution_count": 75,
   "id": "2b223302-b5fc-41fe-b31b-2e1aab2a4002",
   "metadata": {},
   "outputs": [
    {
     "data": {
      "text/plain": [
       "True"
      ]
     },
     "execution_count": 75,
     "metadata": {},
     "output_type": "execute_result"
    }
   ],
   "source": [
    "2<3"
   ]
  },
  {
   "cell_type": "code",
   "execution_count": 77,
   "id": "82d9a8c1-4d5f-4cb4-858f-ab9c4f5c057f",
   "metadata": {},
   "outputs": [
    {
     "data": {
      "text/plain": [
       "True"
      ]
     },
     "execution_count": 77,
     "metadata": {},
     "output_type": "execute_result"
    }
   ],
   "source": [
    "2!=3 #2 and 3 are not equal"
   ]
  },
  {
   "cell_type": "code",
   "execution_count": 79,
   "id": "8baccaf6-8384-46f8-86b2-416e91665a6d",
   "metadata": {},
   "outputs": [
    {
     "data": {
      "text/plain": [
       "False"
      ]
     },
     "execution_count": 79,
     "metadata": {},
     "output_type": "execute_result"
    }
   ],
   "source": [
    "3!=3 #3 and 3 are not equal"
   ]
  },
  {
   "cell_type": "code",
   "execution_count": 81,
   "id": "3984c919-fd58-4a91-b50b-2f4fa1091aff",
   "metadata": {},
   "outputs": [
    {
     "data": {
      "text/plain": [
       "False"
      ]
     },
     "execution_count": 81,
     "metadata": {},
     "output_type": "execute_result"
    }
   ],
   "source": [
    "2>=3"
   ]
  },
  {
   "cell_type": "code",
   "execution_count": 83,
   "id": "b9af4bd1-2006-4757-ae2e-f87103ad5e96",
   "metadata": {},
   "outputs": [
    {
     "data": {
      "text/plain": [
       "True"
      ]
     },
     "execution_count": 83,
     "metadata": {},
     "output_type": "execute_result"
    }
   ],
   "source": [
    "2<=3"
   ]
  },
  {
   "cell_type": "code",
   "execution_count": 85,
   "id": "fe0346fc-b658-4626-baf9-af5c0d3b667b",
   "metadata": {},
   "outputs": [
    {
     "data": {
      "text/plain": [
       "True"
      ]
     },
     "execution_count": 85,
     "metadata": {},
     "output_type": "execute_result"
    }
   ],
   "source": [
    "\"Bangladesh\" == \"Bangladesh\""
   ]
  },
  {
   "cell_type": "code",
   "execution_count": 87,
   "id": "e0e4570b-abc7-4256-bcbf-24cac582bd7e",
   "metadata": {},
   "outputs": [
    {
     "data": {
      "text/plain": [
       "False"
      ]
     },
     "execution_count": 87,
     "metadata": {},
     "output_type": "execute_result"
    }
   ],
   "source": [
    "\"Bangladesh\" == \"bangladesh\""
   ]
  },
  {
   "cell_type": "code",
   "execution_count": 89,
   "id": "142aec49-3efd-4169-81a5-6c1fec4ea0d7",
   "metadata": {},
   "outputs": [
    {
     "data": {
      "text/plain": [
       "False"
      ]
     },
     "execution_count": 89,
     "metadata": {},
     "output_type": "execute_result"
    }
   ],
   "source": [
    "my_money=30\n",
    "rickshaw_fare=40\n",
    "my_money>=rickshaw_fare"
   ]
  },
  {
   "cell_type": "code",
   "execution_count": 91,
   "id": "5c1e437f-ac38-4e3f-aa40-84ffb321d9ce",
   "metadata": {},
   "outputs": [
    {
     "data": {
      "text/plain": [
       "True"
      ]
     },
     "execution_count": 91,
     "metadata": {},
     "output_type": "execute_result"
    }
   ],
   "source": [
    "my_money=30\n",
    "rickshaw_fare=30\n",
    "my_money>=rickshaw_fare"
   ]
  },
  {
   "cell_type": "code",
   "execution_count": 93,
   "id": "2e56815e-b570-4cb4-8aec-cca890843bed",
   "metadata": {},
   "outputs": [
    {
     "data": {
      "text/plain": [
       "True"
      ]
     },
     "execution_count": 93,
     "metadata": {},
     "output_type": "execute_result"
    }
   ],
   "source": [
    "my_money=50\n",
    "rickshaw_fare=40\n",
    "my_money>=rickshaw_fare"
   ]
  },
  {
   "cell_type": "code",
   "execution_count": 95,
   "id": "9562a179-515b-46e3-b8f2-673d54dc1eea",
   "metadata": {},
   "outputs": [
    {
     "data": {
      "text/plain": [
       "True"
      ]
     },
     "execution_count": 95,
     "metadata": {},
     "output_type": "execute_result"
    }
   ],
   "source": [
    "today=\"Friday\"\n",
    "today == \"Friday\""
   ]
  },
  {
   "cell_type": "code",
   "execution_count": 97,
   "id": "4d48032e-7e28-4d2d-b271-d2c017814c38",
   "metadata": {},
   "outputs": [
    {
     "data": {
      "text/plain": [
       "False"
      ]
     },
     "execution_count": 97,
     "metadata": {},
     "output_type": "execute_result"
    }
   ],
   "source": [
    "today=\"Friday\"\n",
    "today == \"Saturday\""
   ]
  },
  {
   "cell_type": "code",
   "execution_count": 99,
   "id": "e40cd293-0766-405d-b621-49eb1b45183d",
   "metadata": {},
   "outputs": [
    {
     "data": {
      "text/plain": [
       "True"
      ]
     },
     "execution_count": 99,
     "metadata": {},
     "output_type": "execute_result"
    }
   ],
   "source": [
    "not (today==\"Saturday\")"
   ]
  },
  {
   "cell_type": "code",
   "execution_count": 101,
   "id": "54cbde90-c226-4957-a580-623c1c715840",
   "metadata": {},
   "outputs": [
    {
     "data": {
      "text/plain": [
       "False"
      ]
     },
     "execution_count": 101,
     "metadata": {},
     "output_type": "execute_result"
    }
   ],
   "source": [
    "not True"
   ]
  },
  {
   "cell_type": "code",
   "execution_count": 103,
   "id": "d23dc2ee-400a-4842-aef8-5e204ae3a5bf",
   "metadata": {},
   "outputs": [
    {
     "data": {
      "text/plain": [
       "True"
      ]
     },
     "execution_count": 103,
     "metadata": {},
     "output_type": "execute_result"
    }
   ],
   "source": [
    "not False"
   ]
  },
  {
   "cell_type": "code",
   "execution_count": 105,
   "id": "cf3dbaa2-811f-4dd5-8a5d-55d2560348e7",
   "metadata": {},
   "outputs": [
    {
     "data": {
      "text/plain": [
       "True"
      ]
     },
     "execution_count": 105,
     "metadata": {},
     "output_type": "execute_result"
    }
   ],
   "source": [
    "number=20\n",
    "number>10"
   ]
  },
  {
   "cell_type": "code",
   "execution_count": 107,
   "id": "53ea9287-3d92-4f33-ad5e-d3601e95dedb",
   "metadata": {},
   "outputs": [
    {
     "data": {
      "text/plain": [
       "True"
      ]
     },
     "execution_count": 107,
     "metadata": {},
     "output_type": "execute_result"
    }
   ],
   "source": [
    "number<100"
   ]
  },
  {
   "cell_type": "code",
   "execution_count": 109,
   "id": "91872f34-17ca-414a-93ea-965ddcb07a18",
   "metadata": {},
   "outputs": [
    {
     "data": {
      "text/plain": [
       "True"
      ]
     },
     "execution_count": 109,
     "metadata": {},
     "output_type": "execute_result"
    }
   ],
   "source": [
    "number>10 and number<100"
   ]
  },
  {
   "cell_type": "code",
   "execution_count": 111,
   "id": "d7dd1147-d7eb-475f-a008-fd17eb51b738",
   "metadata": {},
   "outputs": [
    {
     "data": {
      "text/plain": [
       "True"
      ]
     },
     "execution_count": 111,
     "metadata": {},
     "output_type": "execute_result"
    }
   ],
   "source": [
    "number=200\n",
    "number>10"
   ]
  },
  {
   "cell_type": "code",
   "execution_count": 113,
   "id": "f513e742-f607-4870-aa05-8d3a4e78e100",
   "metadata": {},
   "outputs": [
    {
     "data": {
      "text/plain": [
       "False"
      ]
     },
     "execution_count": 113,
     "metadata": {},
     "output_type": "execute_result"
    }
   ],
   "source": [
    "number<100"
   ]
  },
  {
   "cell_type": "code",
   "execution_count": 115,
   "id": "790435d7-4ed6-4fb3-9d87-7913acdc86f2",
   "metadata": {},
   "outputs": [
    {
     "data": {
      "text/plain": [
       "False"
      ]
     },
     "execution_count": 115,
     "metadata": {},
     "output_type": "execute_result"
    }
   ],
   "source": [
    "number>10 and number<100"
   ]
  },
  {
   "cell_type": "code",
   "execution_count": 117,
   "id": "9a6d7c3a-5333-46ff-8915-2856ec2a1926",
   "metadata": {},
   "outputs": [
    {
     "data": {
      "text/plain": [
       "True"
      ]
     },
     "execution_count": 117,
     "metadata": {},
     "output_type": "execute_result"
    }
   ],
   "source": [
    "number>10 or number<100"
   ]
  },
  {
   "cell_type": "code",
   "execution_count": 119,
   "id": "fcb34e5c-47f6-4f4b-b198-b3d9dd60398b",
   "metadata": {},
   "outputs": [
    {
     "name": "stdout",
     "output_type": "stream",
     "text": [
      "[1, 2, 3, 4, 5, 6, 7, 8, 9, 10]\n"
     ]
    }
   ],
   "source": [
    "#List\n",
    "numbers=[1,2,3,4,5,6,7,8,9,10]\n",
    "print(numbers)"
   ]
  },
  {
   "cell_type": "code",
   "execution_count": 121,
   "id": "d68a9539-0b18-4164-bd35-ec38311b456e",
   "metadata": {},
   "outputs": [
    {
     "name": "stdout",
     "output_type": "stream",
     "text": [
      "1\n"
     ]
    }
   ],
   "source": [
    "print(numbers[0])"
   ]
  },
  {
   "cell_type": "code",
   "execution_count": 123,
   "id": "dabe8792-0570-459c-add3-5c62115a4c12",
   "metadata": {},
   "outputs": [
    {
     "name": "stdout",
     "output_type": "stream",
     "text": [
      "10\n"
     ]
    }
   ],
   "source": [
    "print(numbers[9])"
   ]
  },
  {
   "cell_type": "code",
   "execution_count": 125,
   "id": "01235389-0680-4c41-93f1-09110b8025a3",
   "metadata": {},
   "outputs": [
    {
     "ename": "IndexError",
     "evalue": "list index out of range",
     "output_type": "error",
     "traceback": [
      "\u001b[1;31m---------------------------------------------------------------------------\u001b[0m",
      "\u001b[1;31mIndexError\u001b[0m                                Traceback (most recent call last)",
      "Cell \u001b[1;32mIn[125], line 1\u001b[0m\n\u001b[1;32m----> 1\u001b[0m \u001b[38;5;28mprint\u001b[39m(numbers[\u001b[38;5;241m10\u001b[39m])\n",
      "\u001b[1;31mIndexError\u001b[0m: list index out of range"
     ]
    }
   ],
   "source": [
    "print(numbers[10])"
   ]
  },
  {
   "cell_type": "code",
   "execution_count": 127,
   "id": "96be6e76-68f0-4357-8a62-192d2299b676",
   "metadata": {},
   "outputs": [
    {
     "data": {
      "text/plain": [
       "10"
      ]
     },
     "execution_count": 127,
     "metadata": {},
     "output_type": "execute_result"
    }
   ],
   "source": [
    "len(numbers)"
   ]
  },
  {
   "cell_type": "code",
   "execution_count": 135,
   "id": "98bb6e4a-b682-45f1-a936-fa73e950c9df",
   "metadata": {},
   "outputs": [
    {
     "name": "stdout",
     "output_type": "stream",
     "text": [
      "['Bangladesh', 'India', 'Myanmar', 'Sri Lanka', 'Thailand', 'Nepal', 'Bhutan']\n"
     ]
    }
   ],
   "source": [
    "bimstec = [\"Bangladesh\", \"India\", \"Myanmar\", \"Sri Lanka\", \"Thailand\", \"Nepal\", \"Bhutan\"]\n",
    "print(bimstec)"
   ]
  },
  {
   "cell_type": "code",
   "execution_count": 137,
   "id": "235940a3-9e49-418f-a15a-0e9869998c46",
   "metadata": {},
   "outputs": [
    {
     "name": "stdout",
     "output_type": "stream",
     "text": [
      "Bangladesh\n"
     ]
    }
   ],
   "source": [
    "print(bimstec[0])"
   ]
  },
  {
   "cell_type": "code",
   "execution_count": 139,
   "id": "ae21abc5-ac6f-45e2-9403-1602ddf92180",
   "metadata": {},
   "outputs": [
    {
     "name": "stdout",
     "output_type": "stream",
     "text": [
      "Number of countries in BIMSTEC:  7\n"
     ]
    }
   ],
   "source": [
    "print(\"Number of countries in BIMSTEC: \", len(bimstec))"
   ]
  },
  {
   "cell_type": "code",
   "execution_count": 141,
   "id": "6654282f-a713-4748-b6a1-2e8cba1e96fe",
   "metadata": {},
   "outputs": [
    {
     "data": {
      "text/plain": [
       "False"
      ]
     },
     "execution_count": 141,
     "metadata": {},
     "output_type": "execute_result"
    }
   ],
   "source": [
    "\"China\" in bimstec"
   ]
  },
  {
   "cell_type": "code",
   "execution_count": 143,
   "id": "f66de155-cd20-4fcb-b4c1-ee9f3571b4da",
   "metadata": {},
   "outputs": [
    {
     "data": {
      "text/plain": [
       "True"
      ]
     },
     "execution_count": 143,
     "metadata": {},
     "output_type": "execute_result"
    }
   ],
   "source": [
    "\"China\" not in bimstec"
   ]
  },
  {
   "cell_type": "code",
   "execution_count": 147,
   "id": "fb5b8572-9ca0-4403-ac49-d0f9b8cc8bc3",
   "metadata": {},
   "outputs": [
    {
     "name": "stdin",
     "output_type": "stream",
     "text": [
      "Enter the name of the country:  China\n"
     ]
    },
    {
     "name": "stdout",
     "output_type": "stream",
     "text": [
      "Program Terminated\n"
     ]
    }
   ],
   "source": [
    "bimstec = [\"Bangladesh\", \"India\", \"Myanmar\", \"Sri Lanka\", \"Thailand\", \"Nepal\", \"Bhutan\"]\n",
    "country=input(\"Enter the name of the country: \")\n",
    "if country in bimstec:\n",
    "    print(country, \"is a member of BIMSTEC\")\n",
    "print(\"Program Terminated\")"
   ]
  },
  {
   "cell_type": "code",
   "execution_count": 149,
   "id": "8bf7dc4c-eb5e-4270-aec0-23c979ee9278",
   "metadata": {},
   "outputs": [
    {
     "name": "stdin",
     "output_type": "stream",
     "text": [
      "Enter the name of the country:  China\n"
     ]
    },
    {
     "name": "stdout",
     "output_type": "stream",
     "text": [
      "China is not a member of BIMSTEC\n",
      "Program Terminated\n"
     ]
    }
   ],
   "source": [
    "bimstec = [\"Bangladesh\", \"India\", \"Myanmar\", \"Sri Lanka\", \"Thailand\", \"Nepal\", \"Bhutan\"]\n",
    "country=input(\"Enter the name of the country: \")\n",
    "if country in bimstec:\n",
    "    print(country, \"is a member of BIMSTEC\")\n",
    "else:\n",
    "    print(country, \"is not a member of BIMSTEC\")\n",
    "print(\"Program Terminated\")"
   ]
  },
  {
   "cell_type": "code",
   "execution_count": 151,
   "id": "f66da763-f553-4daf-a741-08dba721f8ab",
   "metadata": {},
   "outputs": [
    {
     "name": "stdin",
     "output_type": "stream",
     "text": [
      "Enter your exam score:  55\n"
     ]
    },
    {
     "name": "stdout",
     "output_type": "stream",
     "text": [
      "Grade: B-\n"
     ]
    }
   ],
   "source": [
    "# Take input for the exam score\n",
    "score = int(input(\"Enter your exam score: \"))\n",
    "\n",
    "# Determine the grade\n",
    "if score >= 80:\n",
    "    print(\"Grade: A+\")\n",
    "elif score >= 75:\n",
    "    print(\"Grade: A\")\n",
    "elif score >= 70:\n",
    "    print(\"Grade: A-\")\n",
    "elif score >= 65:\n",
    "    print(\"Grade: B+\")\n",
    "elif score >= 60:\n",
    "    print(\"Grade: B\")\n",
    "elif score >= 55:\n",
    "    print(\"Grade: B-\")\n",
    "elif score >= 50:\n",
    "    print(\"Grade: C+\")\n",
    "elif score >= 45:\n",
    "    print(\"Grade: C\")\n",
    "elif score >= 40:\n",
    "    print(\"Grade: D\")\n",
    "else:\n",
    "    print(\"Grade: F\")"
   ]
  },
  {
   "cell_type": "code",
   "execution_count": 155,
   "id": "41f6cf71-bc47-4cd5-ae12-0e57fd4f0183",
   "metadata": {},
   "outputs": [
    {
     "data": {
      "text/plain": [
       "30"
      ]
     },
     "execution_count": 155,
     "metadata": {},
     "output_type": "execute_result"
    }
   ],
   "source": [
    "#compare three numbers and find the maximum\n",
    "n1=20\n",
    "n2=30\n",
    "n3=25\n",
    "if n1>n2:\n",
    "    max_n=n1\n",
    "if n3>max_n:\n",
    "    max_n=n3\n",
    "max_n"
   ]
  },
  {
   "cell_type": "code",
   "execution_count": 157,
   "id": "2b091af9-d55a-4078-a3ff-faf5b6e49dcd",
   "metadata": {},
   "outputs": [
    {
     "name": "stdout",
     "output_type": "stream",
     "text": [
      "Maximum:  65\n"
     ]
    }
   ],
   "source": [
    "n1=50\n",
    "n2=60\n",
    "n3=65\n",
    "if n1>n2:\n",
    "    max_n=n1\n",
    "else:\n",
    "    max_n=n2\n",
    "if n3>max_n:\n",
    "    max_n=n3\n",
    "print(\"Maximum: \",max_n)"
   ]
  },
  {
   "cell_type": "code",
   "execution_count": 5,
   "id": "07995441-25aa-4840-b53c-7256e24e18f3",
   "metadata": {},
   "outputs": [
    {
     "name": "stdin",
     "output_type": "stream",
     "text": [
      "Input the year to check:  2026\n"
     ]
    },
    {
     "name": "stdout",
     "output_type": "stream",
     "text": [
      "Not a Leap Year\n"
     ]
    }
   ],
   "source": [
    "year=input(\"Input the year to check: \")\n",
    "year=int(year)\n",
    "if (year % 4 == 0 and year % 100 != 0) or (year % 400 == 0):\n",
    "    print(\"Leap Year\")\n",
    "else:\n",
    "    print(\"Not a Leap Year\")"
   ]
  },
  {
   "cell_type": "code",
   "execution_count": 7,
   "id": "2d8b92c2-78f8-484c-a183-851c800eeb06",
   "metadata": {},
   "outputs": [],
   "source": [
    "#turtle\n",
    "import turtle #import turtle module to our program\n",
    "turtle.forward(100) #order the turtle to move forward 10 pixels\n",
    "turtle.exitonclick() #click on any region when output window opens"
   ]
  },
  {
   "cell_type": "code",
   "execution_count": 15,
   "id": "eac54666-532e-4f0d-967d-c57f9aee1c2a",
   "metadata": {},
   "outputs": [],
   "source": [
    "import turtle \n",
    "turtle.forward(100)\n",
    "turtle.left(90)\n",
    "turtle.forward(100)\n",
    "turtle.left(90)\n",
    "turtle.forward(100)\n",
    "turtle.left(90)\n",
    "turtle.exitonclick()"
   ]
  },
  {
   "cell_type": "code",
   "execution_count": 23,
   "id": "66c205b9-fa1f-4ab6-904a-4f1c16c96639",
   "metadata": {},
   "outputs": [],
   "source": [
    "import turtle \n",
    "turtle.forward(100)\n",
    "turtle.left(90)\n",
    "turtle.forward(100)\n",
    "turtle.left(90)\n",
    "turtle.forward(100)\n",
    "turtle.left(90)\n",
    "turtle.exitonclick()"
   ]
  },
  {
   "cell_type": "code",
   "execution_count": 27,
   "id": "cbc77eab-e7b6-4d13-bcd2-5915510fba92",
   "metadata": {},
   "outputs": [],
   "source": [
    "import turtle\n",
    "\n",
    "turtle.speed(3)  # Set speed from 1 (slow) to 10 (fast), or 0 for instant\n",
    "\n",
    "turtle.forward(100)\n",
    "turtle.left(90)\n",
    "turtle.forward(100)\n",
    "turtle.left(90)\n",
    "turtle.forward(100)\n",
    "turtle.left(90)\n",
    "\n",
    "turtle.exitonclick()  # Click to close the window"
   ]
  },
  {
   "cell_type": "code",
   "execution_count": 29,
   "id": "e938c858-17ba-4d28-b4ab-012ee121001a",
   "metadata": {},
   "outputs": [
    {
     "name": "stdout",
     "output_type": "stream",
     "text": [
      "Blue Economy\n",
      "Blue Economy\n",
      "Blue Economy\n",
      "Blue Economy\n",
      "Blue Economy\n",
      "Blue Economy\n",
      "Blue Economy\n",
      "Blue Economy\n",
      "Blue Economy\n",
      "Blue Economy\n"
     ]
    }
   ],
   "source": [
    "#loop\n",
    "for i in range(10):\n",
    "    print(\"Blue Economy\")"
   ]
  },
  {
   "cell_type": "code",
   "execution_count": 31,
   "id": "97789cf1-ff3b-452e-baf7-ecaab2abd023",
   "metadata": {},
   "outputs": [
    {
     "name": "stdout",
     "output_type": "stream",
     "text": [
      "0\n",
      "1\n",
      "2\n",
      "3\n",
      "4\n"
     ]
    }
   ],
   "source": [
    "#print integer number\n",
    "for i in range(5):\n",
    "    print(i)"
   ]
  },
  {
   "cell_type": "code",
   "execution_count": null,
   "id": "cc9591cc-20d8-4379-811c-db882f0c8ef5",
   "metadata": {},
   "outputs": [],
   "source": [
    "import turtle\n",
    "\n",
    "turtle.speed(3) \n",
    "\n",
    "turtle.forward(100)\n",
    "turtle.left(90)\n",
    "turtle.forward(100)\n",
    "turtle.left(90)\n",
    "turtle.forward(100)\n",
    "turtle.left(90)\n",
    "turtle.forward(100)\n",
    "turtle.left(90)\n",
    "\n",
    "turtle.exitonclick()  "
   ]
  },
  {
   "cell_type": "code",
   "execution_count": 40,
   "id": "2a34c3ed-0a1a-4ca3-ad40-515e0c4d31b2",
   "metadata": {},
   "outputs": [],
   "source": [
    "import turtle\n",
    "\n",
    "turtle.speed(3)  \n",
    "\n",
    "for i in range (4):\n",
    "    turtle.forward(100)\n",
    "    turtle.left(90)\n",
    "\n",
    "turtle.exitonclick()  "
   ]
  },
  {
   "cell_type": "code",
   "execution_count": 41,
   "id": "4dd4140c-53a1-4f44-82ba-a723dfdaf5e7",
   "metadata": {},
   "outputs": [
    {
     "name": "stdout",
     "output_type": "stream",
     "text": [
      "50\n"
     ]
    }
   ],
   "source": [
    "result=0\n",
    "for i in range(50):\n",
    "    result=result+1\n",
    "print(result)"
   ]
  },
  {
   "cell_type": "code",
   "execution_count": 44,
   "id": "9c87dbb8-4301-4588-941b-65715499dfd2",
   "metadata": {},
   "outputs": [
    {
     "name": "stdout",
     "output_type": "stream",
     "text": [
      "50\n"
     ]
    }
   ],
   "source": [
    "result=0\n",
    "for _ in range(50):\n",
    "    result=result+1\n",
    "print(result)"
   ]
  },
  {
   "cell_type": "code",
   "execution_count": 46,
   "id": "f1cae4ae-cc21-446c-8f24-25636af315c9",
   "metadata": {},
   "outputs": [
    {
     "name": "stdout",
     "output_type": "stream",
     "text": [
      "1225\n"
     ]
    }
   ],
   "source": [
    "result=0\n",
    "for num in range(50):\n",
    "    result=result+num\n",
    "print(result)"
   ]
  },
  {
   "cell_type": "code",
   "execution_count": 48,
   "id": "d2703217-3b44-4836-b89c-49e38b50766d",
   "metadata": {},
   "outputs": [
    {
     "name": "stdout",
     "output_type": "stream",
     "text": [
      "1225\n"
     ]
    }
   ],
   "source": [
    "result=0\n",
    "for num in range(50):\n",
    "    result+=num #result=result+num\n",
    "print(result)"
   ]
  },
  {
   "cell_type": "code",
   "execution_count": 50,
   "id": "308c29ec-d905-4123-9e2c-15f15132ff3a",
   "metadata": {},
   "outputs": [
    {
     "name": "stdout",
     "output_type": "stream",
     "text": [
      "50\n"
     ]
    }
   ],
   "source": [
    "result=0\n",
    "for i in range(50):\n",
    "    result+=1\n",
    "print(result)"
   ]
  },
  {
   "cell_type": "code",
   "execution_count": 52,
   "id": "cc44ecef-a816-4dc9-ae54-1b4fdc795fe7",
   "metadata": {},
   "outputs": [
    {
     "name": "stdout",
     "output_type": "stream",
     "text": [
      "1\n",
      "6\n",
      "11\n",
      "16\n"
     ]
    }
   ],
   "source": [
    "for i in range(1,20,5):\n",
    "    print(i)"
   ]
  },
  {
   "cell_type": "code",
   "execution_count": 54,
   "id": "44c8da92-a59f-4571-a57f-a1f6ad02a600",
   "metadata": {},
   "outputs": [
    {
     "name": "stdout",
     "output_type": "stream",
     "text": [
      "9\n"
     ]
    }
   ],
   "source": [
    "#compare numbers using loop\n",
    "numbers=[6,1,3,0,9,3,2,5]\n",
    "max_n=numbers[0]\n",
    "for n in numbers:\n",
    "    if n>max_n:\n",
    "        max_n=n\n",
    "print(max_n)"
   ]
  },
  {
   "cell_type": "code",
   "execution_count": 58,
   "id": "98e2ff69-5bb5-4bb8-b671-c607499a2aca",
   "metadata": {},
   "outputs": [],
   "source": [
    "import turtle\n",
    "\n",
    "turtle.speed(3)  \n",
    "\n",
    "for i in range (20):\n",
    "    turtle.forward(10)\n",
    "    turtle.penup()\n",
    "    turtle.forward(3)\n",
    "    turtle.pendown()\n",
    "\n",
    "turtle.exitonclick()  "
   ]
  },
  {
   "cell_type": "code",
   "execution_count": 62,
   "id": "bf30c457-d02d-4990-adda-a70fcd017d79",
   "metadata": {},
   "outputs": [],
   "source": [
    "import turtle\n",
    "\n",
    "turtle.speed(3)  \n",
    "\n",
    "for side_length in range (50,100,10):\n",
    "    for i in range(4):\n",
    "        turtle.forward(side_length)\n",
    "        turtle.left(90)\n",
    "turtle.exitonclick() "
   ]
  },
  {
   "cell_type": "code",
   "execution_count": 66,
   "id": "3b2861f3-caf0-4cbd-82a7-300fa3df4fdb",
   "metadata": {},
   "outputs": [
    {
     "name": "stdout",
     "output_type": "stream",
     "text": [
      "Bangladesh is a member of BIMSTEC\n",
      "India is a member of BIMSTEC\n",
      "Myanmar is a member of BIMSTEC\n",
      "Sri Lanka is a member of BIMSTEC\n",
      "Thailand is a member of BIMSTEC\n",
      "Nepal is a member of BIMSTEC\n",
      "Bhutan is a member of BIMSTEC\n"
     ]
    }
   ],
   "source": [
    "bimstec = [\"Bangladesh\", \"India\", \"Myanmar\", \"Sri Lanka\", \"Thailand\", \"Nepal\", \"Bhutan\"]\n",
    "for country in bimstec:\n",
    "    print(country, \"is a member of BIMSTEC\")"
   ]
  },
  {
   "cell_type": "code",
   "execution_count": 70,
   "id": "f648da8f-ea0f-4a66-91ab-dc7980071a47",
   "metadata": {},
   "outputs": [
    {
     "name": "stdout",
     "output_type": "stream",
     "text": [
      "[0, 1, 2, 3, 4, 5, 6, 7, 8, 9, 10]\n"
     ]
    }
   ],
   "source": [
    "#creating list using range() function\n",
    "li=list(range(11))\n",
    "print(li)"
   ]
  },
  {
   "cell_type": "code",
   "execution_count": 72,
   "id": "6a1d1f90-7513-4044-929c-ffe740885710",
   "metadata": {},
   "outputs": [
    {
     "name": "stdout",
     "output_type": "stream",
     "text": [
      "[2, 4, 6, 8, 10, 12, 14, 16, 18, 20]\n"
     ]
    }
   ],
   "source": [
    "#creating list of even numbers (1-20) using range() function\n",
    "li=list(range(2,21,2))\n",
    "print(li)"
   ]
  },
  {
   "cell_type": "code",
   "execution_count": 74,
   "id": "c30e0164-a815-4380-bc1e-9dc83f93a30b",
   "metadata": {},
   "outputs": [
    {
     "name": "stdout",
     "output_type": "stream",
     "text": [
      "0\n",
      "1\n",
      "2\n",
      "3\n",
      "4\n"
     ]
    }
   ],
   "source": [
    "i=0\n",
    "while i<5:\n",
    "    print(i)\n",
    "    i+=1"
   ]
  },
  {
   "cell_type": "code",
   "execution_count": 76,
   "id": "361b474a-3b8b-4de9-ad2a-f247e8a71e1b",
   "metadata": {},
   "outputs": [
    {
     "name": "stdout",
     "output_type": "stream",
     "text": [
      "4\n",
      "3\n",
      "2\n",
      "1\n",
      "0\n",
      "-1\n"
     ]
    }
   ],
   "source": [
    "i=5\n",
    "while i>=0:\n",
    "    i-=1\n",
    "    print(i)"
   ]
  },
  {
   "cell_type": "code",
   "execution_count": 78,
   "id": "d39197e2-18bd-459f-8aef-b5d8251dc46e",
   "metadata": {},
   "outputs": [
    {
     "name": "stdin",
     "output_type": "stream",
     "text": [
      "Please enter a positive integer:  3\n"
     ]
    },
    {
     "name": "stdout",
     "output_type": "stream",
     "text": [
      "3 x 1 = 3\n",
      "3 x 2 = 6\n",
      "3 x 3 = 9\n",
      "3 x 4 = 12\n",
      "3 x 5 = 15\n",
      "3 x 6 = 18\n",
      "3 x 7 = 21\n",
      "3 x 8 = 24\n",
      "3 x 9 = 27\n",
      "3 x 10 = 30\n"
     ]
    }
   ],
   "source": [
    "n=input(\"Please enter a positive integer: \")\n",
    "n=int(n)\n",
    "\n",
    "m=1\n",
    "while m<=10:\n",
    "    print(n,\"x\",m,\"=\",n*m)\n",
    "    m+=1"
   ]
  },
  {
   "cell_type": "code",
   "execution_count": 82,
   "id": "2632e882-1364-48ca-985a-1fdb0752f75a",
   "metadata": {},
   "outputs": [],
   "source": [
    "import turtle\n",
    "turtle.color(\"black\")\n",
    "turtle.speed(3)  \n",
    "\n",
    "counter=0\n",
    "while counter<36:\n",
    "    for i in range(4):\n",
    "        turtle.forward(100)\n",
    "        turtle.right(90)\n",
    "    turtle.right(10)\n",
    "    counter+=1\n",
    "turtle.exitonclick() "
   ]
  },
  {
   "cell_type": "code",
   "execution_count": 86,
   "id": "c884a5b4-288f-4a4e-bbed-4f6498dbb0f4",
   "metadata": {},
   "outputs": [],
   "source": [
    "import turtle\n",
    "height=5\n",
    "width=5\n",
    "turtle.speed(3)  \n",
    "turtle.penup()\n",
    "for y in range (height):\n",
    "    for x in range(width):\n",
    "        turtle.dot()\n",
    "        turtle.forward(20)\n",
    "    turtle.backward(20*width)\n",
    "    turtle.right(90)\n",
    "    turtle.forward(20)\n",
    "    turtle.left(90)\n",
    "turtle.exitonclick() "
   ]
  },
  {
   "cell_type": "code",
   "execution_count": 88,
   "id": "8478a166-155e-4462-86dc-e49b35f17951",
   "metadata": {},
   "outputs": [
    {
     "name": "stdout",
     "output_type": "stream",
     "text": [
      "0\n",
      "1\n",
      "2\n",
      "3\n",
      "4\n"
     ]
    }
   ],
   "source": [
    "for i in range(10):\n",
    "    if i == 5:\n",
    "        break  # Exit the loop when i is 5\n",
    "    print(i)"
   ]
  },
  {
   "cell_type": "code",
   "execution_count": 90,
   "id": "97ba5009-98cd-4d54-b1b5-06ece5e5357e",
   "metadata": {},
   "outputs": [
    {
     "name": "stdout",
     "output_type": "stream",
     "text": [
      "0\n",
      "1\n",
      "2\n",
      "3\n",
      "4\n",
      "6\n",
      "7\n",
      "8\n",
      "9\n"
     ]
    }
   ],
   "source": [
    "for i in range(10):\n",
    "    if i == 5:\n",
    "        continue  # Skip the iteration when i is 5\n",
    "    print(i)"
   ]
  },
  {
   "cell_type": "code",
   "execution_count": 92,
   "id": "922e2e08-f8f1-4be3-89be-51b91b7c38e0",
   "metadata": {},
   "outputs": [
    {
     "name": "stdout",
     "output_type": "stream",
     "text": [
      "Hello, welcome to Python!\n"
     ]
    }
   ],
   "source": [
    "#Function\n",
    "def greet():\n",
    "    print(\"Hello, welcome to Python!\")\n",
    "\n",
    "greet()  # Calling the function"
   ]
  },
  {
   "cell_type": "code",
   "execution_count": 94,
   "id": "4e5eb4a8-13b7-45fd-99e4-780336beaaef",
   "metadata": {},
   "outputs": [
    {
     "name": "stdout",
     "output_type": "stream",
     "text": [
      "8\n"
     ]
    }
   ],
   "source": [
    "def add_numbers(a, b):\n",
    "    return a + b\n",
    "\n",
    "result = add_numbers(3, 5)\n",
    "print(result)"
   ]
  },
  {
   "cell_type": "code",
   "execution_count": 96,
   "id": "6f658e12-e1cb-4a79-a19e-170cbfa2bbe1",
   "metadata": {},
   "outputs": [
    {
     "name": "stdout",
     "output_type": "stream",
     "text": [
      "Hello, Arif!\n",
      "Hello, Guest!\n"
     ]
    }
   ],
   "source": [
    "def greet(name=\"Guest\"):\n",
    "    print(f\"Hello, {name}!\")\n",
    "\n",
    "greet(\"Arif\")  # Custom argument\n",
    "greet()  # Default argument"
   ]
  },
  {
   "cell_type": "code",
   "execution_count": 3,
   "id": "709db84f-763a-4a81-ae57-6dec35cbe8c2",
   "metadata": {},
   "outputs": [
    {
     "name": "stdout",
     "output_type": "stream",
     "text": [
      "Hello Arif\n"
     ]
    }
   ],
   "source": [
    "def greet(name):  # 'name' is a parameter\n",
    "    print(\"Hello\", name)\n",
    "\n",
    "greet(\"Arif\")     # \"Arif\" is an argument"
   ]
  },
  {
   "cell_type": "code",
   "execution_count": 15,
   "id": "267cdff2-d62d-4c2b-afb0-fe3d2d318aa8",
   "metadata": {},
   "outputs": [
    {
     "name": "stdout",
     "output_type": "stream",
     "text": [
      "Inside myfnc 20\n",
      "Inside myfnc 10\n",
      "20\n"
     ]
    }
   ],
   "source": [
    "#global and local variable\n",
    "def myfnc(x):\n",
    "    print(\"Inside myfnc\", x)\n",
    "    x=10 # local variable\n",
    "    print(\"Inside myfnc\", x)\n",
    "x=20 # global variable\n",
    "myfnc(x)\n",
    "print(x)"
   ]
  },
  {
   "cell_type": "code",
   "execution_count": 17,
   "id": "528cc824-93f2-42d8-b57b-be6bd443e438",
   "metadata": {},
   "outputs": [
    {
     "name": "stdout",
     "output_type": "stream",
     "text": [
      "[99, 2, 3, 4]\n"
     ]
    }
   ],
   "source": [
    "#list into function\n",
    "def modify_list(lst):\n",
    "    lst.append(4)       # Modifies the original list\n",
    "    lst[0] = 99        # Changes an element\n",
    "\n",
    "my_list = [1, 2, 3]\n",
    "modify_list(my_list)\n",
    "print(my_list)         # Output: [99, 2, 3, 4] (Original list is changed)"
   ]
  },
  {
   "cell_type": "code",
   "execution_count": 21,
   "id": "bc05d843-1482-4b96-aa3b-3a495b9b0807",
   "metadata": {},
   "outputs": [
    {
     "data": {
      "text/plain": [
       "12"
      ]
     },
     "execution_count": 21,
     "metadata": {},
     "output_type": "execute_result"
    }
   ],
   "source": [
    "#string\n",
    "s=\"Oceanography\"\n",
    "len(s)"
   ]
  },
  {
   "cell_type": "code",
   "execution_count": 23,
   "id": "43cdf6d5-511b-4d29-99bf-b65d6a116a3c",
   "metadata": {},
   "outputs": [
    {
     "name": "stdout",
     "output_type": "stream",
     "text": [
      "Arif's\n"
     ]
    }
   ],
   "source": [
    "s=\"Arif's\"\n",
    "print(s)"
   ]
  },
  {
   "cell_type": "code",
   "execution_count": 27,
   "id": "d54830e5-2db1-4740-8806-3ca9ca9b79ac",
   "metadata": {},
   "outputs": [
    {
     "name": "stdout",
     "output_type": "stream",
     "text": [
      "Arif's\n"
     ]
    }
   ],
   "source": [
    "s='Arif\\'s'\n",
    "print(s)"
   ]
  },
  {
   "cell_type": "code",
   "execution_count": 29,
   "id": "3fe3023e-9a12-4d2e-bb1e-793f185e75cc",
   "metadata": {},
   "outputs": [
    {
     "data": {
      "text/plain": [
       "'B'"
      ]
     },
     "execution_count": 29,
     "metadata": {},
     "output_type": "execute_result"
    }
   ],
   "source": [
    "#getting individual letter from a string\n",
    "country=\"Bangladesh\" #assign a string\n",
    "country[0]"
   ]
  },
  {
   "cell_type": "code",
   "execution_count": 31,
   "id": "b911fc53-187e-4866-8117-38eecb14781e",
   "metadata": {},
   "outputs": [
    {
     "name": "stdout",
     "output_type": "stream",
     "text": [
      "B\n",
      "a\n",
      "n\n",
      "g\n",
      "l\n",
      "a\n",
      "d\n",
      "e\n",
      "s\n",
      "h\n"
     ]
    }
   ],
   "source": [
    "for c in country:\n",
    "    print(c)"
   ]
  },
  {
   "cell_type": "code",
   "execution_count": 33,
   "id": "4fad4618-d640-4d96-9282-86693690050f",
   "metadata": {},
   "outputs": [
    {
     "ename": "TypeError",
     "evalue": "'str' object does not support item assignment",
     "output_type": "error",
     "traceback": [
      "\u001b[1;31m---------------------------------------------------------------------------\u001b[0m",
      "\u001b[1;31mTypeError\u001b[0m                                 Traceback (most recent call last)",
      "Cell \u001b[1;32mIn[33], line 2\u001b[0m\n\u001b[0;32m      1\u001b[0m s \u001b[38;5;241m=\u001b[39m \u001b[38;5;124m\"\u001b[39m\u001b[38;5;124mhello\u001b[39m\u001b[38;5;124m\"\u001b[39m\n\u001b[1;32m----> 2\u001b[0m s[\u001b[38;5;241m0\u001b[39m] \u001b[38;5;241m=\u001b[39m \u001b[38;5;124m'\u001b[39m\u001b[38;5;124mH\u001b[39m\u001b[38;5;124m'\u001b[39m\n",
      "\u001b[1;31mTypeError\u001b[0m: 'str' object does not support item assignment"
     ]
    }
   ],
   "source": [
    "s = \"hello\"\n",
    "s[0] = 'H'  # ❌ TypeError: 'str' object does not support item assignment"
   ]
  },
  {
   "cell_type": "code",
   "execution_count": 35,
   "id": "025f288f-ff01-4a30-9452-fd0d234d7f28",
   "metadata": {},
   "outputs": [
    {
     "name": "stdout",
     "output_type": "stream",
     "text": [
      "hello\n",
      "HELLO\n"
     ]
    }
   ],
   "source": [
    "s = \"hello\"\n",
    "new_s = s.upper()  # Creates a new string \"HELLO\"\n",
    "print(s)      # \"hello\" (original unchanged)\n",
    "print(new_s)  # \"HELLO\" (new string)"
   ]
  },
  {
   "cell_type": "code",
   "execution_count": 37,
   "id": "efe1bbbe-7046-4f8d-8bd2-4f2a7c37bdc2",
   "metadata": {},
   "outputs": [
    {
     "name": "stdout",
     "output_type": "stream",
     "text": [
      "[99, 2, 3, 4]\n"
     ]
    }
   ],
   "source": [
    "lst = [1, 2, 3]\n",
    "lst[0] = 99  # ✅ Works\n",
    "lst.append(4) # ✅ Works\n",
    "print(lst)   # [99, 2, 3, 4] (modified)"
   ]
  },
  {
   "cell_type": "code",
   "execution_count": 41,
   "id": "8b3644ba-ef50-4225-9a07-c59372159c58",
   "metadata": {},
   "outputs": [
    {
     "name": "stdout",
     "output_type": "stream",
     "text": [
      "Hello World\n"
     ]
    }
   ],
   "source": [
    "#Join strings\n",
    "str1 = \"Hello\"\n",
    "str2 = \"World\"\n",
    "result = str1 + \" \" + str2\n",
    "print(result)  # Output: \"Hello World\""
   ]
  },
  {
   "cell_type": "code",
   "execution_count": 43,
   "id": "7458cc62-2fba-49d3-b980-d7860bcf642e",
   "metadata": {},
   "outputs": [
    {
     "name": "stdout",
     "output_type": "stream",
     "text": [
      "Hello World\n"
     ]
    }
   ],
   "source": [
    "str1 = \"Hello\"\n",
    "str2 = \"World\"\n",
    "result = \" \".join([str1, str2])  # Join with a space separator\n",
    "print(result)  # Output: \"Hello World\""
   ]
  },
  {
   "cell_type": "code",
   "execution_count": 45,
   "id": "75dd484f-5b01-49f2-a9de-b2952c37a54a",
   "metadata": {},
   "outputs": [
    {
     "name": "stdout",
     "output_type": "stream",
     "text": [
      "Hello World\n"
     ]
    }
   ],
   "source": [
    "str1 = \"Hello\"\n",
    "str2 = \"World\"\n",
    "result = f\"{str1} {str2}\"\n",
    "print(result)  # Output: \"Hello World\""
   ]
  },
  {
   "cell_type": "code",
   "execution_count": 47,
   "id": "49259aeb-5fc9-4964-8cd6-11e7c25dd98e",
   "metadata": {},
   "outputs": [
    {
     "data": {
      "text/plain": [
       "0"
      ]
     },
     "execution_count": 47,
     "metadata": {},
     "output_type": "execute_result"
    }
   ],
   "source": [
    "country=\"Bangladesh\"\n",
    "country.find(\"Ban\")"
   ]
  },
  {
   "cell_type": "code",
   "execution_count": 49,
   "id": "94df2783-352b-4a2c-a6a6-623bf368cf01",
   "metadata": {},
   "outputs": [
    {
     "data": {
      "text/plain": [
       "1"
      ]
     },
     "execution_count": 49,
     "metadata": {},
     "output_type": "execute_result"
    }
   ],
   "source": [
    "country=\"Bangladesh\"\n",
    "country.find(\"ang\")"
   ]
  },
  {
   "cell_type": "code",
   "execution_count": 51,
   "id": "6a8d6cb7-bf2c-4a3a-9b65-b1b5587bdd6e",
   "metadata": {},
   "outputs": [
    {
     "data": {
      "text/plain": [
       "-1"
      ]
     },
     "execution_count": 51,
     "metadata": {},
     "output_type": "execute_result"
    }
   ],
   "source": [
    "country=\"Bangladesh\"\n",
    "country.find(\"Bengla\")"
   ]
  },
  {
   "cell_type": "code",
   "execution_count": 53,
   "id": "35afa4d6-d1ac-4126-9ab1-44933113d530",
   "metadata": {},
   "outputs": [
    {
     "data": {
      "text/plain": [
       "6"
      ]
     },
     "execution_count": 53,
     "metadata": {},
     "output_type": "execute_result"
    }
   ],
   "source": [
    "country=\"Bangladesh\"\n",
    "country.find(\"desh\")"
   ]
  },
  {
   "cell_type": "code",
   "execution_count": 55,
   "id": "9f0f2962-6546-4bea-8a9b-e5f2a4aafdbe",
   "metadata": {},
   "outputs": [
    {
     "name": "stdout",
     "output_type": "stream",
     "text": [
      "I like oranges, oranges are tasty.\n"
     ]
    }
   ],
   "source": [
    "text = \"I like apples, apples are tasty.\"\n",
    "new_text = text.replace(\"apples\", \"oranges\")\n",
    "print(new_text)  \n",
    "# Output: \"I like oranges, oranges are tasty.\""
   ]
  },
  {
   "cell_type": "code",
   "execution_count": 57,
   "id": "28d8dfa1-2c75-47d4-9682-5a7c6ccc34b8",
   "metadata": {},
   "outputs": [
    {
     "name": "stdout",
     "output_type": "stream",
     "text": [
      "Hello, World!\n",
      "Hello, World!\n",
      "Hello, World!\n"
     ]
    }
   ],
   "source": [
    "text = \"   Hello, World!   \"\n",
    "print(text.strip())  # \"Hello, World!\" (removes leading/trailing spaces)\n",
    "\n",
    "text = \"xxHello, World!xx\"\n",
    "print(text.strip(\"x\"))  # \"Hello, World!\" (removes 'x' from both ends)\n",
    "\n",
    "text = \"abcHello, World!cba\"\n",
    "print(text.strip(\"abc\"))  # \"Hello, World!\" (removes 'a', 'b', 'c' from ends)"
   ]
  },
  {
   "cell_type": "code",
   "execution_count": 59,
   "id": "5dc5711a-2356-46fd-b639-1106ae4d3fe4",
   "metadata": {},
   "outputs": [
    {
     "name": "stdout",
     "output_type": "stream",
     "text": [
      "Hello, World!   \n",
      "Hello, World!xx\n"
     ]
    }
   ],
   "source": [
    "text = \"   Hello, World!   \"\n",
    "print(text.lstrip())  # \"Hello, World!   \" (removes leading spaces)\n",
    "\n",
    "text = \"xxHello, World!xx\"\n",
    "print(text.lstrip(\"x\"))  # \"Hello, World!xx\" (removes leading 'x')"
   ]
  },
  {
   "cell_type": "code",
   "execution_count": 61,
   "id": "3aa9fb0b-8061-45d6-a4ae-89d2aadb31b9",
   "metadata": {},
   "outputs": [
    {
     "name": "stdout",
     "output_type": "stream",
     "text": [
      "   Hello, World!\n",
      "xxHello, World!\n"
     ]
    }
   ],
   "source": [
    "text = \"   Hello, World!   \"\n",
    "print(text.rstrip())  # \"   Hello, World!\" (removes trailing spaces)\n",
    "\n",
    "text = \"xxHello, World!xx\"\n",
    "print(text.rstrip(\"x\"))  # \"xxHello, World!\" (removes trailing 'x')"
   ]
  },
  {
   "cell_type": "code",
   "execution_count": 67,
   "id": "755ccbf1-d630-4383-8a6e-90070fadb236",
   "metadata": {},
   "outputs": [
    {
     "name": "stdout",
     "output_type": "stream",
     "text": [
      "BANGLADESH\n",
      "bangladesh\n",
      "Bangladesh\n"
     ]
    }
   ],
   "source": [
    "s1=\"BangladesH\"\n",
    "s_up=s1.upper()\n",
    "print(s_up)\n",
    "s_lo=s1.lower()\n",
    "print(s_lo)\n",
    "s_cap=s1.capitalize()\n",
    "print(s_cap)"
   ]
  },
  {
   "cell_type": "code",
   "execution_count": 69,
   "id": "6f46837b-29d1-4d1e-8900-3d12398104b3",
   "metadata": {},
   "outputs": [
    {
     "name": "stdout",
     "output_type": "stream",
     "text": [
      "['Bangladesh', 'Maritime', 'University']\n"
     ]
    }
   ],
   "source": [
    "str=\"Bangladesh Maritime University\"\n",
    "words=str.split()\n",
    "print(words)"
   ]
  },
  {
   "cell_type": "code",
   "execution_count": 71,
   "id": "1ab26411-d707-461a-9882-f4d83e3939a4",
   "metadata": {},
   "outputs": [
    {
     "name": "stdout",
     "output_type": "stream",
     "text": [
      "Bangladesh\n",
      "Maritime\n",
      "University\n"
     ]
    }
   ],
   "source": [
    "for word in words:\n",
    "    print(word)"
   ]
  },
  {
   "cell_type": "code",
   "execution_count": 79,
   "id": "a959c965-7003-4b76-aee2-43f85c2a8499",
   "metadata": {},
   "outputs": [
    {
     "data": {
      "text/plain": [
       "2"
      ]
     },
     "execution_count": 79,
     "metadata": {},
     "output_type": "execute_result"
    }
   ],
   "source": [
    "str=\"Bangladesh Maritime University , Banladesh Agriculture University\"\n",
    "str.count(\"University\")"
   ]
  },
  {
   "cell_type": "code",
   "execution_count": 83,
   "id": "a15ced28-e871-47ab-bad0-8563f8feef7a",
   "metadata": {},
   "outputs": [
    {
     "data": {
      "text/plain": [
       "True"
      ]
     },
     "execution_count": 83,
     "metadata": {},
     "output_type": "execute_result"
    }
   ],
   "source": [
    "s=\"Bangladesh\"\n",
    "s.startswith(\"Bang\")"
   ]
  },
  {
   "cell_type": "code",
   "execution_count": 85,
   "id": "24e5d549-8d31-456c-ae88-44878250c51b",
   "metadata": {},
   "outputs": [
    {
     "data": {
      "text/plain": [
       "False"
      ]
     },
     "execution_count": 85,
     "metadata": {},
     "output_type": "execute_result"
    }
   ],
   "source": [
    "s.startswith(\"bang\")"
   ]
  },
  {
   "cell_type": "code",
   "execution_count": 87,
   "id": "036178fd-e6b0-4984-8553-d690c5287ac3",
   "metadata": {},
   "outputs": [
    {
     "data": {
      "text/plain": [
       "True"
      ]
     },
     "execution_count": 87,
     "metadata": {},
     "output_type": "execute_result"
    }
   ],
   "source": [
    "s.endswith(\"desh\")"
   ]
  },
  {
   "cell_type": "code",
   "execution_count": 89,
   "id": "a1450ea7-a271-495e-abb9-cedb2a739c81",
   "metadata": {},
   "outputs": [
    {
     "name": "stdout",
     "output_type": "stream",
     "text": [
      "Dear Sir\n"
     ]
    }
   ],
   "source": [
    "name=\"Dr. Subrata Kumar Aditya\"\n",
    "if name.startswith(\"Dr.\"):\n",
    "    print(\"Dear Sir\")"
   ]
  },
  {
   "cell_type": "code",
   "execution_count": 91,
   "id": "9d29db63-b847-49e1-9136-0d4a01c3b1f6",
   "metadata": {},
   "outputs": [
    {
     "name": "stdout",
     "output_type": "stream",
     "text": [
      "Hello sir, how are you?\n"
     ]
    }
   ],
   "source": [
    "import turtle\n",
    "\n",
    "name=turtle.textinput(\"name\", \"What is your name?\")\n",
    "name=name.lower()\n",
    "if name.startswith(\"mr\"):\n",
    "    print(\"Hello sir, how are you?\")\n",
    "elif name.startswith(\"mrs\") or name.startswith(\"miss\") or name.startswith(\"ms\"):\n",
    "    print(\"Hello Madam, how are you?\")\n",
    "else:\n",
    "    name=name.capitalize()\n",
    "    str=\"Hi\"+name+\"! How are you?\"\n",
    "    print(str)\n",
    "turtle.exitonclick()"
   ]
  },
  {
   "cell_type": "code",
   "execution_count": 93,
   "id": "2b2c6e23-9e8e-4773-9edf-12da02653c23",
   "metadata": {},
   "outputs": [
    {
     "name": "stdout",
     "output_type": "stream",
     "text": [
      "['Physical', 'Chemical', 'Geological', 'Biological']\n"
     ]
    }
   ],
   "source": [
    "#add new data\n",
    "ocn=[\"Physical\", \"Chemical\", \"Geological\", \"Biological\"]\n",
    "print(ocn)"
   ]
  },
  {
   "cell_type": "code",
   "execution_count": 99,
   "id": "368b4871-edad-4cb4-8a9e-e715f211de63",
   "metadata": {},
   "outputs": [
    {
     "name": "stdout",
     "output_type": "stream",
     "text": [
      "['Physical', 'Chemical', 'Geological', 'Biological', 'Environmental', 'Environmental']\n"
     ]
    }
   ],
   "source": [
    "ocn.append(\"Environmental\")\n",
    "print(ocn)"
   ]
  },
  {
   "cell_type": "code",
   "execution_count": 101,
   "id": "61a88242-10f8-4b2a-b143-cc2b493590d8",
   "metadata": {},
   "outputs": [
    {
     "name": "stdout",
     "output_type": "stream",
     "text": [
      "['Physical', 'Chemical', 'Geological', 'Biological', 'Environmental', 'Environmental', 'Satellite']\n"
     ]
    }
   ],
   "source": [
    "ocn.append(\"Satellite\")\n",
    "print(ocn)"
   ]
  },
  {
   "cell_type": "code",
   "execution_count": 103,
   "id": "c00f3a01-f772-44e6-a7ba-f1c85f0514e4",
   "metadata": {},
   "outputs": [
    {
     "name": "stdout",
     "output_type": "stream",
     "text": [
      "['Biological', 'Chemical', 'Environmental', 'Environmental', 'Geological', 'Physical', 'Satellite']\n"
     ]
    }
   ],
   "source": [
    "#sorting the data\n",
    "ocn.sort()\n",
    "print(ocn)"
   ]
  },
  {
   "cell_type": "code",
   "execution_count": 105,
   "id": "f3167ae8-bdcf-4260-a391-3fe389c9fc7a",
   "metadata": {},
   "outputs": [
    {
     "name": "stdout",
     "output_type": "stream",
     "text": [
      "['Satellite', 'Physical', 'Geological', 'Environmental', 'Environmental', 'Chemical', 'Biological']\n"
     ]
    }
   ],
   "source": [
    "ocn.reverse()\n",
    "print(ocn)"
   ]
  },
  {
   "cell_type": "code",
   "execution_count": 107,
   "id": "ac211f26-5055-4b4f-8c32-5f566a9adde3",
   "metadata": {},
   "outputs": [
    {
     "name": "stdout",
     "output_type": "stream",
     "text": [
      "['Physical', 'Chemical', 'Geological', 'Biological']\n"
     ]
    }
   ],
   "source": [
    "ocn=[\"Physical\", \"Chemical\", \"Geological\", \"Biological\"]\n",
    "print(ocn)"
   ]
  },
  {
   "cell_type": "code",
   "execution_count": 109,
   "id": "52e5bb30-36db-4899-9cae-226d777460ab",
   "metadata": {},
   "outputs": [
    {
     "name": "stdout",
     "output_type": "stream",
     "text": [
      "['Physical', 'Environmental', 'Chemical', 'Geological', 'Biological']\n"
     ]
    }
   ],
   "source": [
    "ocn.insert(1,\"Environmental\")\n",
    "print(ocn)"
   ]
  },
  {
   "cell_type": "code",
   "execution_count": 111,
   "id": "9aaadb60-0474-4f95-b3cc-fbfc73507c20",
   "metadata": {},
   "outputs": [
    {
     "name": "stdout",
     "output_type": "stream",
     "text": [
      "['Physical', 'Chemical', 'Geological', 'Biological']\n"
     ]
    }
   ],
   "source": [
    "ocn.remove(\"Environmental\")\n",
    "print(ocn)"
   ]
  },
  {
   "cell_type": "code",
   "execution_count": 113,
   "id": "219e9310-fc59-417f-b485-7af53c68d966",
   "metadata": {},
   "outputs": [
    {
     "ename": "ValueError",
     "evalue": "list.remove(x): x not in list",
     "output_type": "error",
     "traceback": [
      "\u001b[1;31m---------------------------------------------------------------------------\u001b[0m",
      "\u001b[1;31mValueError\u001b[0m                                Traceback (most recent call last)",
      "Cell \u001b[1;32mIn[113], line 2\u001b[0m\n\u001b[0;32m      1\u001b[0m ocn\u001b[38;5;241m=\u001b[39m[\u001b[38;5;124m\"\u001b[39m\u001b[38;5;124mPhysical\u001b[39m\u001b[38;5;124m\"\u001b[39m, \u001b[38;5;124m\"\u001b[39m\u001b[38;5;124mChemical\u001b[39m\u001b[38;5;124m\"\u001b[39m, \u001b[38;5;124m\"\u001b[39m\u001b[38;5;124mGeological\u001b[39m\u001b[38;5;124m\"\u001b[39m, \u001b[38;5;124m\"\u001b[39m\u001b[38;5;124mBiological\u001b[39m\u001b[38;5;124m\"\u001b[39m]\n\u001b[1;32m----> 2\u001b[0m ocn\u001b[38;5;241m.\u001b[39mremove(\u001b[38;5;124m\"\u001b[39m\u001b[38;5;124mEnvionmental\u001b[39m\u001b[38;5;124m\"\u001b[39m)\n",
      "\u001b[1;31mValueError\u001b[0m: list.remove(x): x not in list"
     ]
    }
   ],
   "source": [
    "ocn=[\"Physical\", \"Chemical\", \"Geological\", \"Biological\"]\n",
    "ocn.remove(\"Envionmental\")"
   ]
  },
  {
   "cell_type": "code",
   "execution_count": 115,
   "id": "c8a9ee34-ad1b-482b-ada5-4dba7ad7e15c",
   "metadata": {},
   "outputs": [
    {
     "name": "stdout",
     "output_type": "stream",
     "text": [
      "Environmental is not in list\n"
     ]
    }
   ],
   "source": [
    "ocn=[\"Physical\", \"Chemical\", \"Geological\", \"Biological\"]\n",
    "field=\"Environmental\"\n",
    "if field in ocn:\n",
    "    remove(field)\n",
    "else:\n",
    "    print(field, \"is not in list\")"
   ]
  },
  {
   "cell_type": "code",
   "execution_count": 121,
   "id": "290f7b65-70c3-439b-b172-cad75fa8286a",
   "metadata": {},
   "outputs": [
    {
     "name": "stdout",
     "output_type": "stream",
     "text": [
      "Biological\n"
     ]
    }
   ],
   "source": [
    "ocn=[\"Physical\", \"Chemical\", \"Geological\", \"Biological\"]\n",
    "field=ocn.pop() # last in first out (LIFO)\n",
    "print(field)"
   ]
  },
  {
   "cell_type": "code",
   "execution_count": 123,
   "id": "0053e4c5-cbbc-4509-b1c4-a7df152396b2",
   "metadata": {},
   "outputs": [
    {
     "name": "stdout",
     "output_type": "stream",
     "text": [
      "Chemical\n"
     ]
    }
   ],
   "source": [
    "field=ocn.pop(1)\n",
    "print(field)"
   ]
  },
  {
   "cell_type": "code",
   "execution_count": 125,
   "id": "5b30f9b4-a272-4e95-98dd-15d5b0c0eb09",
   "metadata": {},
   "outputs": [
    {
     "name": "stdout",
     "output_type": "stream",
     "text": [
      "[1, 2, 3, 4, 5, 6]\n"
     ]
    }
   ],
   "source": [
    "list_1=[1,2,3]\n",
    "list_2=[4,5,6]\n",
    "list_1.extend(list_2)\n",
    "print(list_1)"
   ]
  },
  {
   "cell_type": "code",
   "execution_count": 127,
   "id": "76297ace-d2a9-49d8-91f2-73bdc1f4873e",
   "metadata": {},
   "outputs": [
    {
     "name": "stdout",
     "output_type": "stream",
     "text": [
      "[1, 3, 4, 5, 6]\n"
     ]
    }
   ],
   "source": [
    "del(list_1[1])\n",
    "print(list_1)"
   ]
  },
  {
   "cell_type": "code",
   "execution_count": 129,
   "id": "e8a0b561-f192-458e-8b24-72dad06f7c9b",
   "metadata": {},
   "outputs": [
    {
     "ename": "NameError",
     "evalue": "name 'list_1' is not defined",
     "output_type": "error",
     "traceback": [
      "\u001b[1;31m---------------------------------------------------------------------------\u001b[0m",
      "\u001b[1;31mNameError\u001b[0m                                 Traceback (most recent call last)",
      "Cell \u001b[1;32mIn[129], line 2\u001b[0m\n\u001b[0;32m      1\u001b[0m \u001b[38;5;28;01mdel\u001b[39;00m(list_1)\n\u001b[1;32m----> 2\u001b[0m \u001b[38;5;28mprint\u001b[39m(list_1)\n",
      "\u001b[1;31mNameError\u001b[0m: name 'list_1' is not defined"
     ]
    }
   ],
   "source": [
    "del(list_1)\n",
    "print(list_1)"
   ]
  },
  {
   "cell_type": "code",
   "execution_count": 131,
   "id": "ca55f8de-1239-4641-860a-4a2108dfcd0d",
   "metadata": {},
   "outputs": [
    {
     "name": "stdout",
     "output_type": "stream",
     "text": [
      "[0, 1, 2, 3, 4, 5, 6, 7, 8, 9]\n"
     ]
    }
   ],
   "source": [
    "list=[]\n",
    "for x in range(10):\n",
    "    list.append(x)\n",
    "print(list)"
   ]
  },
  {
   "cell_type": "code",
   "execution_count": 133,
   "id": "f4613403-5d80-4522-add4-4f9f21db44bc",
   "metadata": {},
   "outputs": [
    {
     "name": "stdout",
     "output_type": "stream",
     "text": [
      "[1, 2, 3, 4, 5, 6]\n"
     ]
    }
   ],
   "source": [
    "li1=[1,2,3]\n",
    "li2=[4,5,6]\n",
    "li_sum=li1+li2\n",
    "print(li_sum)"
   ]
  },
  {
   "cell_type": "code",
   "execution_count": 135,
   "id": "a143d2bb-873c-4b20-beb3-a85650f4b1d9",
   "metadata": {},
   "outputs": [
    {
     "name": "stdout",
     "output_type": "stream",
     "text": [
      "[1, 2, 3, 1, 2, 3]\n"
     ]
    }
   ],
   "source": [
    "li3=li1*2\n",
    "print(li3)"
   ]
  },
  {
   "cell_type": "code",
   "execution_count": 137,
   "id": "7ada9927-d7db-416f-b661-941c02db98bb",
   "metadata": {},
   "outputs": [
    {
     "name": "stdout",
     "output_type": "stream",
     "text": [
      "[2, 4, 6, 8]\n"
     ]
    }
   ],
   "source": [
    "#want to create list where each element will be doubled than previous\n",
    "li=[1,2,3,4]\n",
    "new_li=[]\n",
    "for x in li:\n",
    "    new_li.append(2*x)\n",
    "print(new_li)"
   ]
  },
  {
   "cell_type": "code",
   "execution_count": 139,
   "id": "4011af79-6062-49f2-aeb2-f79a8bb1057d",
   "metadata": {},
   "outputs": [
    {
     "name": "stdout",
     "output_type": "stream",
     "text": [
      "[2, 4, 6, 8]\n"
     ]
    }
   ],
   "source": [
    "#use list comprehensions\n",
    "new_li=[2*x for x in li]\n",
    "print(new_li)"
   ]
  },
  {
   "cell_type": "code",
   "execution_count": 141,
   "id": "7c08ccd5-ce68-40f2-8f0a-f96169426c88",
   "metadata": {},
   "outputs": [
    {
     "name": "stdout",
     "output_type": "stream",
     "text": [
      "[2, 4, 6, 8, 10]\n"
     ]
    }
   ],
   "source": [
    "#print even numbers using list comprehensions\n",
    "li=[1,2,3,4,5,6,7,8,9,10]\n",
    "even_numbers=[x for x in range(1,11) if x%2==0]\n",
    "print(even_numbers)"
   ]
  },
  {
   "cell_type": "code",
   "execution_count": 143,
   "id": "aa1534d0-c3da-4e9e-bfdc-8b317370f1f5",
   "metadata": {},
   "outputs": [
    {
     "name": "stdout",
     "output_type": "stream",
     "text": [
      "[2, 4, 6, 8]\n"
     ]
    }
   ],
   "source": [
    "#print even numbers using list comprehensions\n",
    "li=[1,2,3,4,5,6,7,8,9,10]\n",
    "even_numbers=[x for x in range(1,10) if x%2==0]\n",
    "print(even_numbers)"
   ]
  },
  {
   "cell_type": "code",
   "execution_count": 145,
   "id": "227934d9-cad2-4566-9b92-6e6257090ab8",
   "metadata": {},
   "outputs": [
    {
     "name": "stdout",
     "output_type": "stream",
     "text": [
      "[0, 2, 4, 6, 8]\n"
     ]
    }
   ],
   "source": [
    "#print even numbers using list comprehensions\n",
    "li=[1,2,3,4,5,6,7,8,9,10]\n",
    "even_numbers=[x for x in range(0,10) if x%2==0]\n",
    "print(even_numbers)"
   ]
  },
  {
   "cell_type": "code",
   "execution_count": 1,
   "id": "749db0dc-52ec-4270-9636-d5d045416d53",
   "metadata": {},
   "outputs": [
    {
     "data": {
      "text/plain": [
       "tuple"
      ]
     },
     "execution_count": 1,
     "metadata": {},
     "output_type": "execute_result"
    }
   ],
   "source": [
    "#Tuple\n",
    "x=(1,2,3)\n",
    "type(x)"
   ]
  },
  {
   "cell_type": "code",
   "execution_count": 9,
   "id": "4670b986-51bb-40a4-87ae-7410d656090c",
   "metadata": {},
   "outputs": [
    {
     "data": {
      "text/plain": [
       "tuple"
      ]
     },
     "execution_count": 9,
     "metadata": {},
     "output_type": "execute_result"
    }
   ],
   "source": [
    "x=1,2,3 #tuple without parenthesis\n",
    "type(x)"
   ]
  },
  {
   "cell_type": "code",
   "execution_count": 5,
   "id": "602c2dc2-9749-4f0c-bd55-c094dd1c7bc9",
   "metadata": {},
   "outputs": [
    {
     "data": {
      "text/plain": [
       "int"
      ]
     },
     "execution_count": 5,
     "metadata": {},
     "output_type": "execute_result"
    }
   ],
   "source": [
    "x=1\n",
    "type(x)"
   ]
  },
  {
   "cell_type": "code",
   "execution_count": 7,
   "id": "b5151f95-6931-4e1b-9e93-936109dd9b5d",
   "metadata": {},
   "outputs": [
    {
     "data": {
      "text/plain": [
       "tuple"
      ]
     },
     "execution_count": 7,
     "metadata": {},
     "output_type": "execute_result"
    }
   ],
   "source": [
    "x=1,\n",
    "type(x)"
   ]
  },
  {
   "cell_type": "code",
   "execution_count": 11,
   "id": "019c8860-f2c0-477a-95db-c49ece8c910a",
   "metadata": {},
   "outputs": [
    {
     "data": {
      "text/plain": [
       "tuple"
      ]
     },
     "execution_count": 11,
     "metadata": {},
     "output_type": "execute_result"
    }
   ],
   "source": [
    "#if we want to create empty tuple?\n",
    "t=()\n",
    "type(t)"
   ]
  },
  {
   "cell_type": "code",
   "execution_count": 13,
   "id": "6306286b-43b7-4953-a0db-044b9d521a7b",
   "metadata": {},
   "outputs": [
    {
     "data": {
      "text/plain": [
       "1"
      ]
     },
     "execution_count": 13,
     "metadata": {},
     "output_type": "execute_result"
    }
   ],
   "source": [
    "#index of tuple\n",
    "tpl=(1,2,3)\n",
    "tpl[0]"
   ]
  },
  {
   "cell_type": "code",
   "execution_count": 15,
   "id": "7549fa62-e557-4883-b23f-d84c4bce8a4d",
   "metadata": {},
   "outputs": [
    {
     "ename": "TypeError",
     "evalue": "'tuple' object does not support item assignment",
     "output_type": "error",
     "traceback": [
      "\u001b[1;31m---------------------------------------------------------------------------\u001b[0m",
      "\u001b[1;31mTypeError\u001b[0m                                 Traceback (most recent call last)",
      "Cell \u001b[1;32mIn[15], line 3\u001b[0m\n\u001b[0;32m      1\u001b[0m \u001b[38;5;66;03m#tuple is immutable\u001b[39;00m\n\u001b[0;32m      2\u001b[0m tpl\u001b[38;5;241m=\u001b[39m(\u001b[38;5;241m1\u001b[39m,\u001b[38;5;241m2\u001b[39m,\u001b[38;5;241m3\u001b[39m)\n\u001b[1;32m----> 3\u001b[0m tpl[\u001b[38;5;241m0\u001b[39m]\u001b[38;5;241m=\u001b[39m\u001b[38;5;241m99\u001b[39m\n\u001b[0;32m      4\u001b[0m tpl\n",
      "\u001b[1;31mTypeError\u001b[0m: 'tuple' object does not support item assignment"
     ]
    }
   ],
   "source": [
    "#tuple is immutable\n",
    "tpl=(1,2,3)\n",
    "tpl[0]=99\n",
    "tpl"
   ]
  },
  {
   "cell_type": "code",
   "execution_count": 17,
   "id": "f51840c7-8b6b-430e-9c2a-a7c6f4d1272a",
   "metadata": {},
   "outputs": [
    {
     "data": {
      "text/plain": [
       "10"
      ]
     },
     "execution_count": 17,
     "metadata": {},
     "output_type": "execute_result"
    }
   ],
   "source": [
    "#pack the tuple\n",
    "numbers=(10,20,30,40)\n",
    "#unpack the tuples into several variables\n",
    "n1,n2,n3,n4=numbers\n",
    "n1"
   ]
  },
  {
   "cell_type": "code",
   "execution_count": 21,
   "id": "6e9ca7a9-83ad-4eaf-be77-984710cd581f",
   "metadata": {},
   "outputs": [
    {
     "name": "stdout",
     "output_type": "stream",
     "text": [
      "1 <class 'int'>\n",
      "2 <class 'int'>\n",
      "5.5 <class 'float'>\n",
      "['a', 'b', 'c'] <class 'list'>\n",
      "('apple', 'mango') <class 'tuple'>\n"
     ]
    }
   ],
   "source": [
    "#loop into tuple\n",
    "items=(1,2,5.5,[\"a\",\"b\",\"c\"],(\"apple\",\"mango\"))\n",
    "for item in items:\n",
    "    print(item,type(item))"
   ]
  },
  {
   "cell_type": "code",
   "execution_count": 23,
   "id": "1cf76532-fcba-41de-a705-2c7813a8fca7",
   "metadata": {},
   "outputs": [
    {
     "data": {
      "text/plain": [
       "{'cellphone', 'laptop', 'pen'}"
      ]
     },
     "execution_count": 23,
     "metadata": {},
     "output_type": "execute_result"
    }
   ],
   "source": [
    "#Set: Collections of items\n",
    "items={\"pen\",\"laptop\",\"cellphone\"}\n",
    "items"
   ]
  },
  {
   "cell_type": "code",
   "execution_count": 25,
   "id": "1d5ea71c-e510-404e-bc42-cac74225c0ec",
   "metadata": {},
   "outputs": [
    {
     "data": {
      "text/plain": [
       "set"
      ]
     },
     "execution_count": 25,
     "metadata": {},
     "output_type": "execute_result"
    }
   ],
   "source": [
    "type(items)"
   ]
  },
  {
   "cell_type": "code",
   "execution_count": 27,
   "id": "42f59d3b-1370-4f74-8a46-4dd5b6c5764e",
   "metadata": {},
   "outputs": [
    {
     "data": {
      "text/plain": [
       "{1, 2, 3, 4}"
      ]
     },
     "execution_count": 27,
     "metadata": {},
     "output_type": "execute_result"
    }
   ],
   "source": [
    "#Create set from list or tuple\n",
    "li=[1,2,3,4]\n",
    "tpl=(1,2,3)\n",
    "A=set(li)\n",
    "A"
   ]
  },
  {
   "cell_type": "code",
   "execution_count": 29,
   "id": "75ccc67d-fce1-44cf-8156-49fff9a66b85",
   "metadata": {},
   "outputs": [
    {
     "data": {
      "text/plain": [
       "{1, 2, 3}"
      ]
     },
     "execution_count": 29,
     "metadata": {},
     "output_type": "execute_result"
    }
   ],
   "source": [
    "B=set(tpl)\n",
    "B"
   ]
  },
  {
   "cell_type": "code",
   "execution_count": 31,
   "id": "fd3e0cfa-b1df-4dc6-aa97-58c9da8d1433",
   "metadata": {},
   "outputs": [
    {
     "data": {
      "text/plain": [
       "set"
      ]
     },
     "execution_count": 31,
     "metadata": {},
     "output_type": "execute_result"
    }
   ],
   "source": [
    "type(A)"
   ]
  },
  {
   "cell_type": "code",
   "execution_count": 33,
   "id": "e4e54df9-4a1a-4c07-b1a4-e5d4a76a71cd",
   "metadata": {},
   "outputs": [
    {
     "data": {
      "text/plain": [
       "set"
      ]
     },
     "execution_count": 33,
     "metadata": {},
     "output_type": "execute_result"
    }
   ],
   "source": [
    "type(B)"
   ]
  },
  {
   "cell_type": "code",
   "execution_count": 37,
   "id": "81010e67-c424-41a3-947d-71f99f041e6d",
   "metadata": {},
   "outputs": [
    {
     "data": {
      "text/plain": [
       "{'B', 'a', 'd', 'e', 'g', 'h', 'l', 'n', 's'}"
      ]
     },
     "execution_count": 37,
     "metadata": {},
     "output_type": "execute_result"
    }
   ],
   "source": [
    "#Create set from string\n",
    "A=set(\"Bangladesh\") #Does not maintain the order of the letter\n",
    "A"
   ]
  },
  {
   "cell_type": "code",
   "execution_count": 39,
   "id": "2faf7bd2-5c83-4831-bd4d-ea9aa903e81d",
   "metadata": {},
   "outputs": [
    {
     "data": {
      "text/plain": [
       "True"
      ]
     },
     "execution_count": 39,
     "metadata": {},
     "output_type": "execute_result"
    }
   ],
   "source": [
    "#Check the member of a particular set\n",
    "A={1,2,3}\n",
    "1 in A"
   ]
  },
  {
   "cell_type": "code",
   "execution_count": 41,
   "id": "b7c4a3a8-830e-4588-87f5-94ed7eed00ad",
   "metadata": {},
   "outputs": [
    {
     "data": {
      "text/plain": [
       "{2, 4}"
      ]
     },
     "execution_count": 41,
     "metadata": {},
     "output_type": "execute_result"
    }
   ],
   "source": [
    "A={1,2,3,4,5}\n",
    "B={2,4,6,8}\n",
    "#Intersection\n",
    "C=A&B\n",
    "C"
   ]
  },
  {
   "cell_type": "code",
   "execution_count": 43,
   "id": "0c6e8986-c543-4edd-a223-e850bc522556",
   "metadata": {},
   "outputs": [
    {
     "data": {
      "text/plain": [
       "{1, 2, 3, 4, 5, 6, 8}"
      ]
     },
     "execution_count": 43,
     "metadata": {},
     "output_type": "execute_result"
    }
   ],
   "source": [
    "#Union\n",
    "C=A|B\n",
    "C"
   ]
  },
  {
   "cell_type": "code",
   "execution_count": 45,
   "id": "bc18f11d-2096-4d0d-b5a5-85bc9cb64bbf",
   "metadata": {},
   "outputs": [
    {
     "data": {
      "text/plain": [
       "{1, 3, 5, 6, 8}"
      ]
     },
     "execution_count": 45,
     "metadata": {},
     "output_type": "execute_result"
    }
   ],
   "source": [
    "#Unique elements\n",
    "C=A^B\n",
    "C"
   ]
  },
  {
   "cell_type": "code",
   "execution_count": 47,
   "id": "1f99098e-51c8-4176-a0e4-a6bfb403fcf9",
   "metadata": {},
   "outputs": [
    {
     "data": {
      "text/plain": [
       "{1, 3, 5}"
      ]
     },
     "execution_count": 47,
     "metadata": {},
     "output_type": "execute_result"
    }
   ],
   "source": [
    "C=A-B\n",
    "C"
   ]
  },
  {
   "cell_type": "code",
   "execution_count": 49,
   "id": "5ffecb5d-619a-4f48-8cc7-e7d30a451200",
   "metadata": {},
   "outputs": [
    {
     "data": {
      "text/plain": [
       "{6, 8}"
      ]
     },
     "execution_count": 49,
     "metadata": {},
     "output_type": "execute_result"
    }
   ],
   "source": [
    "C=B-A\n",
    "C"
   ]
  },
  {
   "cell_type": "code",
   "execution_count": 51,
   "id": "ecc1535c-cb38-46e8-a21d-8f4e05889d2b",
   "metadata": {},
   "outputs": [
    {
     "name": "stdin",
     "output_type": "stream",
     "text": [
      "Please enter your roll number:  3\n"
     ]
    },
    {
     "name": "stdout",
     "output_type": "stream",
     "text": [
      "Your marks is  65\n"
     ]
    }
   ],
   "source": [
    "#Dictionary\n",
    "marks=[77,76,65,78,62,64,60,77,75,79]\n",
    "roll=input(\"Please enter your roll number: \")\n",
    "print(\"Your marks is \", marks[int(roll)-1])"
   ]
  },
  {
   "cell_type": "code",
   "execution_count": 53,
   "id": "6ca62c30-786d-47f9-ade7-db1da7dee622",
   "metadata": {},
   "outputs": [
    {
     "data": {
      "text/plain": [
       "[74, 73]"
      ]
     },
     "execution_count": 53,
     "metadata": {},
     "output_type": "execute_result"
    }
   ],
   "source": [
    "#if we want to store two subjects number?\n",
    "marks=[[74,73],[70,75],[68,72],[73,73]]\n",
    "marks[0]"
   ]
  },
  {
   "cell_type": "code",
   "execution_count": 55,
   "id": "ac37a01c-b86a-45de-a3e3-880263c631e3",
   "metadata": {},
   "outputs": [
    {
     "data": {
      "text/plain": [
       "75"
      ]
     },
     "execution_count": 55,
     "metadata": {},
     "output_type": "execute_result"
    }
   ],
   "source": [
    "marks[1][1]"
   ]
  },
  {
   "cell_type": "code",
   "execution_count": 57,
   "id": "55f37336-da10-45f9-8628-9bc283a7d5e1",
   "metadata": {},
   "outputs": [
    {
     "data": {
      "text/plain": [
       "70"
      ]
     },
     "execution_count": 57,
     "metadata": {},
     "output_type": "execute_result"
    }
   ],
   "source": [
    "marks[1][0]"
   ]
  },
  {
   "cell_type": "code",
   "execution_count": 59,
   "id": "cb4a26a5-50f8-4306-a945-7f048ade4f2e",
   "metadata": {},
   "outputs": [
    {
     "data": {
      "text/plain": [
       "dict"
      ]
     },
     "execution_count": 59,
     "metadata": {},
     "output_type": "execute_result"
    }
   ],
   "source": [
    "#Dictionary\n",
    "#Data is stored in couple (key,value)\n",
    "#If we want to get data, we have to know the key\n",
    "marks={1:77,2:76,5:62,4:78,3:65}\n",
    "type(marks)"
   ]
  },
  {
   "cell_type": "code",
   "execution_count": 61,
   "id": "dc95bfbe-20b5-4da5-8935-88c4d8f1a5b1",
   "metadata": {},
   "outputs": [
    {
     "data": {
      "text/plain": [
       "65"
      ]
     },
     "execution_count": 61,
     "metadata": {},
     "output_type": "execute_result"
    }
   ],
   "source": [
    "marks[3]"
   ]
  },
  {
   "cell_type": "code",
   "execution_count": 63,
   "id": "8c122362-29ba-4b2e-81f6-5d8b70848ec6",
   "metadata": {},
   "outputs": [
    {
     "name": "stdout",
     "output_type": "stream",
     "text": [
      "Marks of roll number 4 is 78\n"
     ]
    }
   ],
   "source": [
    "print(\"Marks of roll number 4 is\" , marks[4])"
   ]
  },
  {
   "cell_type": "code",
   "execution_count": 67,
   "id": "69c14108-ef69-4c68-9be1-f061e9e3d80f",
   "metadata": {},
   "outputs": [
    {
     "data": {
      "text/plain": [
       "75"
      ]
     },
     "execution_count": 67,
     "metadata": {},
     "output_type": "execute_result"
    }
   ],
   "source": [
    "marks={\"DH2001\":75,\"DH1777\":72}\n",
    "marks[\"DH2001\"]"
   ]
  },
  {
   "cell_type": "code",
   "execution_count": 69,
   "id": "e7eb9944-f8c3-48e7-8d85-6508280b96b3",
   "metadata": {},
   "outputs": [
    {
     "data": {
      "text/plain": [
       "dict"
      ]
     },
     "execution_count": 69,
     "metadata": {},
     "output_type": "execute_result"
    }
   ],
   "source": [
    "#Create empty dictionary\n",
    "dt={}\n",
    "type(dt)"
   ]
  },
  {
   "cell_type": "code",
   "execution_count": 71,
   "id": "5cab4361-3367-4baa-91be-d1ef5449e39e",
   "metadata": {},
   "outputs": [
    {
     "data": {
      "text/plain": [
       "{1: 'one'}"
      ]
     },
     "execution_count": 71,
     "metadata": {},
     "output_type": "execute_result"
    }
   ],
   "source": [
    "dt[1]=\"one\"\n",
    "dt"
   ]
  }
 ],
 "metadata": {
  "kernelspec": {
   "display_name": "Python [conda env:base] *",
   "language": "python",
   "name": "conda-base-py"
  },
  "language_info": {
   "codemirror_mode": {
    "name": "ipython",
    "version": 3
   },
   "file_extension": ".py",
   "mimetype": "text/x-python",
   "name": "python",
   "nbconvert_exporter": "python",
   "pygments_lexer": "ipython3",
   "version": "3.12.7"
  }
 },
 "nbformat": 4,
 "nbformat_minor": 5
}
